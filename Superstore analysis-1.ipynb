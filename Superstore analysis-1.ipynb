{
 "cells": [
  {
   "cell_type": "code",
   "execution_count": 1,
   "metadata": {},
   "outputs": [],
   "source": [
    "import pandas as pd\n",
    "import numpy as np\n",
    "import matplotlib.pyplot as plt\n",
    "import seaborn as sns"
   ]
  },
  {
   "cell_type": "code",
   "execution_count": 3,
   "metadata": {},
   "outputs": [
    {
     "data": {
      "text/plain": [
       "<bound method NDFrame.head of       Row ID        Order ID  Order Date   Ship Date       Ship Mode  \\\n",
       "0          1  CA-2016-152156   11/8/2016  11/11/2016    Second Class   \n",
       "1          2  CA-2016-152156   11/8/2016  11/11/2016    Second Class   \n",
       "2          3  CA-2016-138688   6/12/2016   6/16/2016    Second Class   \n",
       "3          4  US-2015-108966  10/11/2015  10/18/2015  Standard Class   \n",
       "4          5  US-2015-108966  10/11/2015  10/18/2015  Standard Class   \n",
       "...      ...             ...         ...         ...             ...   \n",
       "9989    9990  CA-2014-110422   1/21/2014   1/23/2014    Second Class   \n",
       "9990    9991  CA-2017-121258   2/26/2017    3/3/2017  Standard Class   \n",
       "9991    9992  CA-2017-121258   2/26/2017    3/3/2017  Standard Class   \n",
       "9992    9993  CA-2017-121258   2/26/2017    3/3/2017  Standard Class   \n",
       "9993    9994  CA-2017-119914    5/4/2017    5/9/2017    Second Class   \n",
       "\n",
       "     Customer ID     Customer Name    Segment        Country             City  \\\n",
       "0       CG-12520       Claire Gute   Consumer  United States        Henderson   \n",
       "1       CG-12520       Claire Gute   Consumer  United States        Henderson   \n",
       "2       DV-13045   Darrin Van Huff  Corporate  United States      Los Angeles   \n",
       "3       SO-20335    Sean O'Donnell   Consumer  United States  Fort Lauderdale   \n",
       "4       SO-20335    Sean O'Donnell   Consumer  United States  Fort Lauderdale   \n",
       "...          ...               ...        ...            ...              ...   \n",
       "9989    TB-21400  Tom Boeckenhauer   Consumer  United States            Miami   \n",
       "9990    DB-13060       Dave Brooks   Consumer  United States       Costa Mesa   \n",
       "9991    DB-13060       Dave Brooks   Consumer  United States       Costa Mesa   \n",
       "9992    DB-13060       Dave Brooks   Consumer  United States       Costa Mesa   \n",
       "9993    CC-12220      Chris Cortes   Consumer  United States      Westminster   \n",
       "\n",
       "      ... Postal Code  Region       Product ID         Category Sub-Category  \\\n",
       "0     ...       42420   South  FUR-BO-10001798        Furniture    Bookcases   \n",
       "1     ...       42420   South  FUR-CH-10000454        Furniture       Chairs   \n",
       "2     ...       90036    West  OFF-LA-10000240  Office Supplies       Labels   \n",
       "3     ...       33311   South  FUR-TA-10000577        Furniture       Tables   \n",
       "4     ...       33311   South  OFF-ST-10000760  Office Supplies      Storage   \n",
       "...   ...         ...     ...              ...              ...          ...   \n",
       "9989  ...       33180   South  FUR-FU-10001889        Furniture  Furnishings   \n",
       "9990  ...       92627    West  FUR-FU-10000747        Furniture  Furnishings   \n",
       "9991  ...       92627    West  TEC-PH-10003645       Technology       Phones   \n",
       "9992  ...       92627    West  OFF-PA-10004041  Office Supplies        Paper   \n",
       "9993  ...       92683    West  OFF-AP-10002684  Office Supplies   Appliances   \n",
       "\n",
       "                                           Product Name     Sales  Quantity  \\\n",
       "0                     Bush Somerset Collection Bookcase  261.9600         2   \n",
       "1     Hon Deluxe Fabric Upholstered Stacking Chairs,...  731.9400         3   \n",
       "2     Self-Adhesive Address Labels for Typewriters b...   14.6200         2   \n",
       "3         Bretford CR4500 Series Slim Rectangular Table  957.5775         5   \n",
       "4                        Eldon Fold 'N Roll Cart System   22.3680         2   \n",
       "...                                                 ...       ...       ...   \n",
       "9989                             Ultra Door Pull Handle   25.2480         3   \n",
       "9990  Tenex B1-RE Series Chair Mats for Low Pile Car...   91.9600         2   \n",
       "9991                              Aastra 57i VoIP phone  258.5760         2   \n",
       "9992  It's Hot Message Books with Stickers, 2 3/4\" x 5\"   29.6000         4   \n",
       "9993  Acco 7-Outlet Masterpiece Power Center, Wihtou...  243.1600         2   \n",
       "\n",
       "      Discount    Profit  \n",
       "0         0.00   41.9136  \n",
       "1         0.00  219.5820  \n",
       "2         0.00    6.8714  \n",
       "3         0.45 -383.0310  \n",
       "4         0.20    2.5164  \n",
       "...        ...       ...  \n",
       "9989      0.20    4.1028  \n",
       "9990      0.00   15.6332  \n",
       "9991      0.20   19.3932  \n",
       "9992      0.00   13.3200  \n",
       "9993      0.00   72.9480  \n",
       "\n",
       "[9994 rows x 21 columns]>"
      ]
     },
     "execution_count": 3,
     "metadata": {},
     "output_type": "execute_result"
    }
   ],
   "source": [
    "super_csv = pd.read_csv(\"superstore.csv\")\n",
    "super_csv.head"
   ]
  },
  {
   "cell_type": "code",
   "execution_count": 5,
   "metadata": {},
   "outputs": [
    {
     "name": "stdout",
     "output_type": "stream",
     "text": [
      "   Row ID        Order ID  Order Date   Ship Date       Ship Mode Customer ID  \\\n",
      "0       1  CA-2016-152156   11/8/2016  11/11/2016    Second Class    CG-12520   \n",
      "1       2  CA-2016-152156   11/8/2016  11/11/2016    Second Class    CG-12520   \n",
      "2       3  CA-2016-138688   6/12/2016   6/16/2016    Second Class    DV-13045   \n",
      "3       4  US-2015-108966  10/11/2015  10/18/2015  Standard Class    SO-20335   \n",
      "4       5  US-2015-108966  10/11/2015  10/18/2015  Standard Class    SO-20335   \n",
      "\n",
      "     Customer Name    Segment        Country             City  ...  \\\n",
      "0      Claire Gute   Consumer  United States        Henderson  ...   \n",
      "1      Claire Gute   Consumer  United States        Henderson  ...   \n",
      "2  Darrin Van Huff  Corporate  United States      Los Angeles  ...   \n",
      "3   Sean O'Donnell   Consumer  United States  Fort Lauderdale  ...   \n",
      "4   Sean O'Donnell   Consumer  United States  Fort Lauderdale  ...   \n",
      "\n",
      "  Postal Code  Region       Product ID         Category Sub-Category  \\\n",
      "0       42420   South  FUR-BO-10001798        Furniture    Bookcases   \n",
      "1       42420   South  FUR-CH-10000454        Furniture       Chairs   \n",
      "2       90036    West  OFF-LA-10000240  Office Supplies       Labels   \n",
      "3       33311   South  FUR-TA-10000577        Furniture       Tables   \n",
      "4       33311   South  OFF-ST-10000760  Office Supplies      Storage   \n",
      "\n",
      "                                        Product Name     Sales  Quantity  \\\n",
      "0                  Bush Somerset Collection Bookcase  261.9600         2   \n",
      "1  Hon Deluxe Fabric Upholstered Stacking Chairs,...  731.9400         3   \n",
      "2  Self-Adhesive Address Labels for Typewriters b...   14.6200         2   \n",
      "3      Bretford CR4500 Series Slim Rectangular Table  957.5775         5   \n",
      "4                     Eldon Fold 'N Roll Cart System   22.3680         2   \n",
      "\n",
      "   Discount    Profit  \n",
      "0      0.00   41.9136  \n",
      "1      0.00  219.5820  \n",
      "2      0.00    6.8714  \n",
      "3      0.45 -383.0310  \n",
      "4      0.20    2.5164  \n",
      "\n",
      "[5 rows x 21 columns]\n"
     ]
    }
   ],
   "source": [
    "# Load the dataset into a DataFrame\n",
    "super_csv = pd.read_csv(\"superstore.csv\")\n",
    "\n",
    "# Display the first few rows of the DataFrame\n",
    "print(super_csv.head())"
   ]
  },
  {
   "cell_type": "code",
   "execution_count": 7,
   "metadata": {},
   "outputs": [
    {
     "data": {
      "text/plain": [
       "(9994, 21)"
      ]
     },
     "execution_count": 7,
     "metadata": {},
     "output_type": "execute_result"
    }
   ],
   "source": [
    "super_csv.shape"
   ]
  },
  {
   "cell_type": "code",
   "execution_count": 9,
   "metadata": {},
   "outputs": [
    {
     "data": {
      "text/plain": [
       "Index(['Row ID', 'Order ID', 'Order Date', 'Ship Date', 'Ship Mode',\n",
       "       'Customer ID', 'Customer Name', 'Segment', 'Country', 'City', 'State',\n",
       "       'Postal Code', 'Region', 'Product ID', 'Category', 'Sub-Category',\n",
       "       'Product Name', 'Sales', 'Quantity', 'Discount', 'Profit'],\n",
       "      dtype='object')"
      ]
     },
     "execution_count": 9,
     "metadata": {},
     "output_type": "execute_result"
    }
   ],
   "source": [
    "super_csv.columns"
   ]
  },
  {
   "cell_type": "code",
   "execution_count": null,
   "metadata": {},
   "outputs": [],
   "source": [
    " ['OrderID','OrderDate', 'ShipDate', 'ShipMode', 'CustomerID', 'CustomerName', 'Segment' ,\n",
    "                         'Country', 'City', 'State', 'PostalCode', 'Region', 'ProductID', 'Category', 'SubCategory',\n",
    "                         'ProductName' , 'DiscountedSales', 'Quantity', 'Discount(%)', 'Profit']"
   ]
  },
  {
   "cell_type": "code",
   "execution_count": 11,
   "metadata": {},
   "outputs": [
    {
     "name": "stdout",
     "output_type": "stream",
     "text": [
      "<class 'pandas.core.frame.DataFrame'>\n",
      "RangeIndex: 9994 entries, 0 to 9993\n",
      "Data columns (total 21 columns):\n",
      " #   Column         Non-Null Count  Dtype  \n",
      "---  ------         --------------  -----  \n",
      " 0   Row ID         9994 non-null   int64  \n",
      " 1   Order ID       9994 non-null   object \n",
      " 2   Order Date     9994 non-null   object \n",
      " 3   Ship Date      9994 non-null   object \n",
      " 4   Ship Mode      9994 non-null   object \n",
      " 5   Customer ID    9994 non-null   object \n",
      " 6   Customer Name  9994 non-null   object \n",
      " 7   Segment        9994 non-null   object \n",
      " 8   Country        9994 non-null   object \n",
      " 9   City           9994 non-null   object \n",
      " 10  State          9994 non-null   object \n",
      " 11  Postal Code    9994 non-null   int64  \n",
      " 12  Region         9994 non-null   object \n",
      " 13  Product ID     9994 non-null   object \n",
      " 14  Category       9994 non-null   object \n",
      " 15  Sub-Category   9994 non-null   object \n",
      " 16  Product Name   9994 non-null   object \n",
      " 17  Sales          9994 non-null   float64\n",
      " 18  Quantity       9994 non-null   int64  \n",
      " 19  Discount       9994 non-null   float64\n",
      " 20  Profit         9994 non-null   float64\n",
      "dtypes: float64(3), int64(3), object(15)\n",
      "memory usage: 1.6+ MB\n"
     ]
    }
   ],
   "source": [
    "super_csv.info()"
   ]
  },
  {
   "cell_type": "code",
   "execution_count": 14,
   "metadata": {},
   "outputs": [
    {
     "data": {
      "text/plain": [
       "0"
      ]
     },
     "execution_count": 14,
     "metadata": {},
     "output_type": "execute_result"
    }
   ],
   "source": [
    "duplicates = super_csv.duplicated(keep = False)\n",
    "duplicates.sum()"
   ]
  },
  {
   "cell_type": "code",
   "execution_count": 17,
   "metadata": {},
   "outputs": [
    {
     "data": {
      "text/plain": [
       "count               9994\n",
       "unique              5009\n",
       "top       CA-2017-100111\n",
       "freq                  14\n",
       "Name: Order ID, dtype: object"
      ]
     },
     "execution_count": 17,
     "metadata": {},
     "output_type": "execute_result"
    }
   ],
   "source": [
    "super_csv['Order ID'].describe() "
   ]
  },
  {
   "cell_type": "code",
   "execution_count": 20,
   "metadata": {},
   "outputs": [
    {
     "data": {
      "text/plain": [
       "dtype('O')"
      ]
     },
     "execution_count": 20,
     "metadata": {},
     "output_type": "execute_result"
    }
   ],
   "source": [
    "super_csv['Order ID'].dtype "
   ]
  },
  {
   "cell_type": "code",
   "execution_count": 23,
   "metadata": {},
   "outputs": [
    {
     "data": {
      "text/plain": [
       "dtype('O')"
      ]
     },
     "execution_count": 23,
     "metadata": {},
     "output_type": "execute_result"
    }
   ],
   "source": [
    "super_csv['Order Date'].dtype  #checking the datatype of the OrderDate Column"
   ]
  },
  {
   "cell_type": "code",
   "execution_count": 25,
   "metadata": {},
   "outputs": [
    {
     "data": {
      "text/plain": [
       "dtype('<M8[ns]')"
      ]
     },
     "execution_count": 25,
     "metadata": {},
     "output_type": "execute_result"
    }
   ],
   "source": [
    "super_csv['Order Date'] = pd.to_datetime(super_csv['Order Date'])   # Converting into the date to the correct datatype\n",
    "super_csv['Order Date'].dtype"
   ]
  },
  {
   "cell_type": "code",
   "execution_count": 29,
   "metadata": {},
   "outputs": [
    {
     "data": {
      "text/plain": [
       "dtype('<M8[ns]')"
      ]
     },
     "execution_count": 29,
     "metadata": {},
     "output_type": "execute_result"
    }
   ],
   "source": [
    "super_csv['Ship Date'] = pd.to_datetime(super_csv['Ship Date'])    #checking the datatype of the ShipDate Column\n",
    "super_csv['Ship Date'].dtype"
   ]
  },
  {
   "cell_type": "code",
   "execution_count": 32,
   "metadata": {},
   "outputs": [
    {
     "data": {
      "text/plain": [
       "array(['Second Class', 'Standard Class', 'First Class', 'Same Day'],\n",
       "      dtype=object)"
      ]
     },
     "execution_count": 32,
     "metadata": {},
     "output_type": "execute_result"
    }
   ],
   "source": [
    "super_csv['Ship Mode'].unique()"
   ]
  },
  {
   "cell_type": "code",
   "execution_count": 34,
   "metadata": {},
   "outputs": [
    {
     "data": {
      "text/plain": [
       "CategoricalDtype(categories=['First Class', 'Same Day', 'Second Class', 'Standard Class'], ordered=False)"
      ]
     },
     "execution_count": 34,
     "metadata": {},
     "output_type": "execute_result"
    }
   ],
   "source": [
    "super_csv['Ship Mode'] = super_csv['Ship Mode'].astype('category')    # Changing to datatype to category\n",
    "super_csv['Ship Mode'].dtype"
   ]
  },
  {
   "cell_type": "code",
   "execution_count": 37,
   "metadata": {},
   "outputs": [
    {
     "data": {
      "text/plain": [
       "count               9994\n",
       "unique                 4\n",
       "top       Standard Class\n",
       "freq                5968\n",
       "Name: Ship Mode, dtype: object"
      ]
     },
     "execution_count": 37,
     "metadata": {},
     "output_type": "execute_result"
    }
   ],
   "source": [
    "super_csv['Ship Mode'].describe()   #summary statistcs of the ShipMode Column"
   ]
  },
  {
   "cell_type": "code",
   "execution_count": 40,
   "metadata": {},
   "outputs": [
    {
     "data": {
      "text/plain": [
       "793"
      ]
     },
     "execution_count": 40,
     "metadata": {},
     "output_type": "execute_result"
    }
   ],
   "source": [
    "super_csv['Customer ID'].nunique()"
   ]
  },
  {
   "cell_type": "code",
   "execution_count": 42,
   "metadata": {},
   "outputs": [
    {
     "data": {
      "text/plain": [
       "count         9994\n",
       "unique         793\n",
       "top       WB-21850\n",
       "freq            37\n",
       "Name: Customer ID, dtype: object"
      ]
     },
     "execution_count": 42,
     "metadata": {},
     "output_type": "execute_result"
    }
   ],
   "source": [
    "super_csv['Customer ID'].describe()    #checking summary statistics of the Customer ID column"
   ]
  },
  {
   "cell_type": "code",
   "execution_count": 44,
   "metadata": {},
   "outputs": [
    {
     "data": {
      "text/plain": [
       "count              9994\n",
       "unique              793\n",
       "top       William Brown\n",
       "freq                 37\n",
       "Name: Customer Name, dtype: object"
      ]
     },
     "execution_count": 44,
     "metadata": {},
     "output_type": "execute_result"
    }
   ],
   "source": [
    "super_csv['Customer Name'].describe()   #checking summary statistics of the Customer Name column"
   ]
  },
  {
   "cell_type": "code",
   "execution_count": 46,
   "metadata": {},
   "outputs": [
    {
     "data": {
      "text/plain": [
       "count         9994\n",
       "unique           3\n",
       "top       Consumer\n",
       "freq          5191\n",
       "Name: Segment, dtype: object"
      ]
     },
     "execution_count": 46,
     "metadata": {},
     "output_type": "execute_result"
    }
   ],
   "source": [
    "super_csv['Segment'].describe()    #checking summary statistics of the Segment column"
   ]
  },
  {
   "cell_type": "code",
   "execution_count": 48,
   "metadata": {},
   "outputs": [
    {
     "data": {
      "text/plain": [
       "CategoricalDtype(categories=['Consumer', 'Corporate', 'Home Office'], ordered=False)"
      ]
     },
     "execution_count": 48,
     "metadata": {},
     "output_type": "execute_result"
    }
   ],
   "source": [
    "super_csv['Segment'] = super_csv['Segment'].astype('category')  #changing the datatype of the segment column from object to category dtype\n",
    "super_csv['Segment'].dtype"
   ]
  },
  {
   "cell_type": "code",
   "execution_count": 50,
   "metadata": {},
   "outputs": [
    {
     "data": {
      "text/plain": [
       "count              9994\n",
       "unique              531\n",
       "top       New York City\n",
       "freq                915\n",
       "Name: City, dtype: object"
      ]
     },
     "execution_count": 50,
     "metadata": {},
     "output_type": "execute_result"
    }
   ],
   "source": [
    "super_csv['City'].describe()      #checking summary statistics of the City column"
   ]
  },
  {
   "cell_type": "code",
   "execution_count": 52,
   "metadata": {},
   "outputs": [
    {
     "data": {
      "text/plain": [
       "count           9994\n",
       "unique            49\n",
       "top       California\n",
       "freq            2001\n",
       "Name: State, dtype: object"
      ]
     },
     "execution_count": 52,
     "metadata": {},
     "output_type": "execute_result"
    }
   ],
   "source": [
    "super_csv['State'].describe()     #checking summary statistics of the State column    "
   ]
  },
  {
   "cell_type": "code",
   "execution_count": 55,
   "metadata": {},
   "outputs": [
    {
     "data": {
      "text/plain": [
       "count      9994\n",
       "unique      631\n",
       "top       10035\n",
       "freq        263\n",
       "Name: Postal Code, dtype: object"
      ]
     },
     "execution_count": 55,
     "metadata": {},
     "output_type": "execute_result"
    }
   ],
   "source": [
    "super_csv['Postal Code'] = super_csv['Postal Code'].astype('str')   # Changing PostalCode from int to str\n",
    "super_csv['Postal Code'].describe()       #checking summary statistics of the PostalCode column"
   ]
  },
  {
   "cell_type": "code",
   "execution_count": 57,
   "metadata": {},
   "outputs": [
    {
     "data": {
      "text/plain": [
       "count     9994\n",
       "unique       4\n",
       "top       West\n",
       "freq      3203\n",
       "Name: Region, dtype: object"
      ]
     },
     "execution_count": 57,
     "metadata": {},
     "output_type": "execute_result"
    }
   ],
   "source": [
    "super_csv['Region'].describe()        #checking summary statistics of the Region column    "
   ]
  },
  {
   "cell_type": "code",
   "execution_count": 59,
   "metadata": {},
   "outputs": [
    {
     "data": {
      "text/plain": [
       "count                9994\n",
       "unique               1862\n",
       "top       OFF-PA-10001970\n",
       "freq                   19\n",
       "Name: Product ID, dtype: object"
      ]
     },
     "execution_count": 59,
     "metadata": {},
     "output_type": "execute_result"
    }
   ],
   "source": [
    "super_csv['Product ID'].describe()      #checking summary statistics of the ProductID column"
   ]
  },
  {
   "cell_type": "code",
   "execution_count": 61,
   "metadata": {},
   "outputs": [
    {
     "data": {
      "text/plain": [
       "count                9994\n",
       "unique               1850\n",
       "top       Staple envelope\n",
       "freq                   48\n",
       "Name: Product Name, dtype: object"
      ]
     },
     "execution_count": 61,
     "metadata": {},
     "output_type": "execute_result"
    }
   ],
   "source": [
    "super_csv['Product Name'].describe()    #checking summary statistics of the ProductName column"
   ]
  },
  {
   "cell_type": "code",
   "execution_count": 63,
   "metadata": {},
   "outputs": [
    {
     "data": {
      "text/plain": [
       "count                9994\n",
       "unique                  3\n",
       "top       Office Supplies\n",
       "freq                 6026\n",
       "Name: Category, dtype: object"
      ]
     },
     "execution_count": 63,
     "metadata": {},
     "output_type": "execute_result"
    }
   ],
   "source": [
    "super_csv['Category'].describe()  #checking summary statistics of the Category column"
   ]
  },
  {
   "cell_type": "code",
   "execution_count": 64,
   "metadata": {},
   "outputs": [
    {
     "data": {
      "text/plain": [
       "0             Furniture\n",
       "1             Furniture\n",
       "2       Office Supplies\n",
       "3             Furniture\n",
       "4       Office Supplies\n",
       "             ...       \n",
       "9989          Furniture\n",
       "9990          Furniture\n",
       "9991         Technology\n",
       "9992    Office Supplies\n",
       "9993    Office Supplies\n",
       "Name: Category, Length: 9994, dtype: category\n",
       "Categories (3, object): ['Furniture', 'Office Supplies', 'Technology']"
      ]
     },
     "execution_count": 64,
     "metadata": {},
     "output_type": "execute_result"
    }
   ],
   "source": [
    "super_csv['Category'] = super_csv['Category'].astype('category')  #change datatype of Category column to category datatype\n",
    "super_csv['Category']"
   ]
  },
  {
   "cell_type": "code",
   "execution_count": 67,
   "metadata": {},
   "outputs": [
    {
     "data": {
      "text/plain": [
       "count        9994\n",
       "unique         17\n",
       "top       Binders\n",
       "freq         1523\n",
       "Name: Sub-Category, dtype: object"
      ]
     },
     "execution_count": 67,
     "metadata": {},
     "output_type": "execute_result"
    }
   ],
   "source": [
    "super_csv['Sub-Category'].describe()      #checking summary statistics of the SubCategory column"
   ]
  },
  {
   "cell_type": "code",
   "execution_count": 69,
   "metadata": {},
   "outputs": [
    {
     "data": {
      "text/plain": [
       "0         Bookcases\n",
       "1            Chairs\n",
       "2            Labels\n",
       "3            Tables\n",
       "4           Storage\n",
       "           ...     \n",
       "9989    Furnishings\n",
       "9990    Furnishings\n",
       "9991         Phones\n",
       "9992          Paper\n",
       "9993     Appliances\n",
       "Name: Sub-Category, Length: 9994, dtype: category\n",
       "Categories (17, object): ['Accessories', 'Appliances', 'Art', 'Binders', ..., 'Phones', 'Storage', 'Supplies', 'Tables']"
      ]
     },
     "execution_count": 69,
     "metadata": {},
     "output_type": "execute_result"
    }
   ],
   "source": [
    "super_csv['Sub-Category'] = super_csv['Sub-Category'].astype('category')   #change dataype of SubCategory Column\n",
    "super_csv['Sub-Category']"
   ]
  },
  {
   "cell_type": "code",
   "execution_count": 75,
   "metadata": {},
   "outputs": [
    {
     "data": {
      "text/plain": [
       "count    9994.000000\n",
       "mean        0.156203\n",
       "std         0.206452\n",
       "min         0.000000\n",
       "25%         0.000000\n",
       "50%         0.200000\n",
       "75%         0.200000\n",
       "max         0.800000\n",
       "Name: Discount, dtype: float64"
      ]
     },
     "execution_count": 75,
     "metadata": {},
     "output_type": "execute_result"
    }
   ],
   "source": [
    "super_csv['Discount'].describe()  #summary statistics of DiscountedSales Column"
   ]
  },
  {
   "cell_type": "code",
   "execution_count": 76,
   "metadata": {},
   "outputs": [
    {
     "data": {
      "text/plain": [
       "count    9994.000000\n",
       "mean        3.789574\n",
       "std         2.225110\n",
       "min         1.000000\n",
       "25%         2.000000\n",
       "50%         3.000000\n",
       "75%         5.000000\n",
       "max        14.000000\n",
       "Name: Quantity, dtype: float64"
      ]
     },
     "execution_count": 76,
     "metadata": {},
     "output_type": "execute_result"
    }
   ],
   "source": [
    "super_csv['Quantity'].describe()        #summary statistics of Quantity Column"
   ]
  },
  {
   "cell_type": "code",
   "execution_count": 80,
   "metadata": {},
   "outputs": [
    {
     "name": "stdout",
     "output_type": "stream",
     "text": [
      "Index(['Row ID', 'Order ID', 'Order Date', 'Ship Date', 'Ship Mode',\n",
      "       'Customer ID', 'Customer Name', 'Segment', 'Country', 'City', 'State',\n",
      "       'Postal Code', 'Region', 'Product ID', 'Category', 'Sub-Category',\n",
      "       'Product Name', 'Sales', 'Quantity', 'Discount', 'Profit'],\n",
      "      dtype='object')\n"
     ]
    }
   ],
   "source": [
    "print(super_csv.columns)"
   ]
  },
  {
   "cell_type": "code",
   "execution_count": null,
   "metadata": {},
   "outputs": [],
   "source": [
    "Index(['Row ID', 'Order ID', 'Order Date', 'Ship Date', 'Ship Mode',\n",
    "       'Customer ID', 'Customer Name', 'Segment', 'Country', 'City', 'State',\n",
    "       'Postal Code', 'Region', 'Product ID', 'Category', 'Sub-Category',\n",
    "       'Product Name', 'Sales', 'Quantity', 'Discount', 'Profit'],\n",
    "      dtype='object')"
   ]
  },
  {
   "cell_type": "code",
   "execution_count": 83,
   "metadata": {},
   "outputs": [
    {
     "data": {
      "text/plain": [
       "count    9994.000000\n",
       "mean       28.656896\n",
       "std       234.260108\n",
       "min     -6599.978000\n",
       "25%         1.728750\n",
       "50%         8.666500\n",
       "75%        29.364000\n",
       "max      8399.976000\n",
       "Name: Profit, dtype: float64"
      ]
     },
     "execution_count": 83,
     "metadata": {},
     "output_type": "execute_result"
    }
   ],
   "source": [
    "super_csv['Profit'].describe()             #summary statistics of Profit Column"
   ]
  },
  {
   "cell_type": "code",
   "execution_count": 84,
   "metadata": {},
   "outputs": [
    {
     "data": {
      "text/html": [
       "<div>\n",
       "<style scoped>\n",
       "    .dataframe tbody tr th:only-of-type {\n",
       "        vertical-align: middle;\n",
       "    }\n",
       "\n",
       "    .dataframe tbody tr th {\n",
       "        vertical-align: top;\n",
       "    }\n",
       "\n",
       "    .dataframe thead th {\n",
       "        text-align: right;\n",
       "    }\n",
       "</style>\n",
       "<table border=\"1\" class=\"dataframe\">\n",
       "  <thead>\n",
       "    <tr style=\"text-align: right;\">\n",
       "      <th></th>\n",
       "      <th>Row ID</th>\n",
       "      <th>Postal Code</th>\n",
       "      <th>Sales</th>\n",
       "      <th>Quantity</th>\n",
       "      <th>Discount</th>\n",
       "      <th>Profit</th>\n",
       "    </tr>\n",
       "  </thead>\n",
       "  <tbody>\n",
       "    <tr>\n",
       "      <th>count</th>\n",
       "      <td>9994.000000</td>\n",
       "      <td>9994.000000</td>\n",
       "      <td>9994.000000</td>\n",
       "      <td>9994.000000</td>\n",
       "      <td>9994.000000</td>\n",
       "      <td>9994.000000</td>\n",
       "    </tr>\n",
       "    <tr>\n",
       "      <th>mean</th>\n",
       "      <td>4997.500000</td>\n",
       "      <td>55190.379428</td>\n",
       "      <td>229.858001</td>\n",
       "      <td>3.789574</td>\n",
       "      <td>0.156203</td>\n",
       "      <td>28.656896</td>\n",
       "    </tr>\n",
       "    <tr>\n",
       "      <th>std</th>\n",
       "      <td>2885.163629</td>\n",
       "      <td>32063.693350</td>\n",
       "      <td>623.245101</td>\n",
       "      <td>2.225110</td>\n",
       "      <td>0.206452</td>\n",
       "      <td>234.260108</td>\n",
       "    </tr>\n",
       "    <tr>\n",
       "      <th>min</th>\n",
       "      <td>1.000000</td>\n",
       "      <td>1040.000000</td>\n",
       "      <td>0.444000</td>\n",
       "      <td>1.000000</td>\n",
       "      <td>0.000000</td>\n",
       "      <td>-6599.978000</td>\n",
       "    </tr>\n",
       "    <tr>\n",
       "      <th>25%</th>\n",
       "      <td>2499.250000</td>\n",
       "      <td>23223.000000</td>\n",
       "      <td>17.280000</td>\n",
       "      <td>2.000000</td>\n",
       "      <td>0.000000</td>\n",
       "      <td>1.728750</td>\n",
       "    </tr>\n",
       "    <tr>\n",
       "      <th>50%</th>\n",
       "      <td>4997.500000</td>\n",
       "      <td>56430.500000</td>\n",
       "      <td>54.490000</td>\n",
       "      <td>3.000000</td>\n",
       "      <td>0.200000</td>\n",
       "      <td>8.666500</td>\n",
       "    </tr>\n",
       "    <tr>\n",
       "      <th>75%</th>\n",
       "      <td>7495.750000</td>\n",
       "      <td>90008.000000</td>\n",
       "      <td>209.940000</td>\n",
       "      <td>5.000000</td>\n",
       "      <td>0.200000</td>\n",
       "      <td>29.364000</td>\n",
       "    </tr>\n",
       "    <tr>\n",
       "      <th>max</th>\n",
       "      <td>9994.000000</td>\n",
       "      <td>99301.000000</td>\n",
       "      <td>22638.480000</td>\n",
       "      <td>14.000000</td>\n",
       "      <td>0.800000</td>\n",
       "      <td>8399.976000</td>\n",
       "    </tr>\n",
       "  </tbody>\n",
       "</table>\n",
       "</div>"
      ],
      "text/plain": [
       "            Row ID   Postal Code         Sales     Quantity     Discount  \\\n",
       "count  9994.000000   9994.000000   9994.000000  9994.000000  9994.000000   \n",
       "mean   4997.500000  55190.379428    229.858001     3.789574     0.156203   \n",
       "std    2885.163629  32063.693350    623.245101     2.225110     0.206452   \n",
       "min       1.000000   1040.000000      0.444000     1.000000     0.000000   \n",
       "25%    2499.250000  23223.000000     17.280000     2.000000     0.000000   \n",
       "50%    4997.500000  56430.500000     54.490000     3.000000     0.200000   \n",
       "75%    7495.750000  90008.000000    209.940000     5.000000     0.200000   \n",
       "max    9994.000000  99301.000000  22638.480000    14.000000     0.800000   \n",
       "\n",
       "            Profit  \n",
       "count  9994.000000  \n",
       "mean     28.656896  \n",
       "std     234.260108  \n",
       "min   -6599.978000  \n",
       "25%       1.728750  \n",
       "50%       8.666500  \n",
       "75%      29.364000  \n",
       "max    8399.976000  "
      ]
     },
     "execution_count": 84,
     "metadata": {},
     "output_type": "execute_result"
    }
   ],
   "source": [
    "super_csv.describe()"
   ]
  },
  {
   "cell_type": "code",
   "execution_count": 85,
   "metadata": {},
   "outputs": [
    {
     "name": "stderr",
     "output_type": "stream",
     "text": [
      "<ipython-input-85-a9eaac3d48d9>:1: DeprecationWarning: `np.object` is a deprecated alias for the builtin `object`. To silence this warning, use `object` by itself. Doing this will not modify any behavior and is safe. \n",
      "Deprecated in NumPy 1.20; for more details and guidance: https://numpy.org/devdocs/release/1.20.0-notes.html#deprecations\n",
      "  super_csv.describe(include = np.object)\n"
     ]
    },
    {
     "data": {
      "text/html": [
       "<div>\n",
       "<style scoped>\n",
       "    .dataframe tbody tr th:only-of-type {\n",
       "        vertical-align: middle;\n",
       "    }\n",
       "\n",
       "    .dataframe tbody tr th {\n",
       "        vertical-align: top;\n",
       "    }\n",
       "\n",
       "    .dataframe thead th {\n",
       "        text-align: right;\n",
       "    }\n",
       "</style>\n",
       "<table border=\"1\" class=\"dataframe\">\n",
       "  <thead>\n",
       "    <tr style=\"text-align: right;\">\n",
       "      <th></th>\n",
       "      <th>Order ID</th>\n",
       "      <th>Order Date</th>\n",
       "      <th>Ship Date</th>\n",
       "      <th>Ship Mode</th>\n",
       "      <th>Customer ID</th>\n",
       "      <th>Customer Name</th>\n",
       "      <th>Segment</th>\n",
       "      <th>Country</th>\n",
       "      <th>City</th>\n",
       "      <th>State</th>\n",
       "      <th>Region</th>\n",
       "      <th>Product ID</th>\n",
       "      <th>Category</th>\n",
       "      <th>Sub-Category</th>\n",
       "      <th>Product Name</th>\n",
       "    </tr>\n",
       "  </thead>\n",
       "  <tbody>\n",
       "    <tr>\n",
       "      <th>count</th>\n",
       "      <td>9994</td>\n",
       "      <td>9994</td>\n",
       "      <td>9994</td>\n",
       "      <td>9994</td>\n",
       "      <td>9994</td>\n",
       "      <td>9994</td>\n",
       "      <td>9994</td>\n",
       "      <td>9994</td>\n",
       "      <td>9994</td>\n",
       "      <td>9994</td>\n",
       "      <td>9994</td>\n",
       "      <td>9994</td>\n",
       "      <td>9994</td>\n",
       "      <td>9994</td>\n",
       "      <td>9994</td>\n",
       "    </tr>\n",
       "    <tr>\n",
       "      <th>unique</th>\n",
       "      <td>5009</td>\n",
       "      <td>1237</td>\n",
       "      <td>1334</td>\n",
       "      <td>4</td>\n",
       "      <td>793</td>\n",
       "      <td>793</td>\n",
       "      <td>3</td>\n",
       "      <td>1</td>\n",
       "      <td>531</td>\n",
       "      <td>49</td>\n",
       "      <td>4</td>\n",
       "      <td>1862</td>\n",
       "      <td>3</td>\n",
       "      <td>17</td>\n",
       "      <td>1850</td>\n",
       "    </tr>\n",
       "    <tr>\n",
       "      <th>top</th>\n",
       "      <td>CA-2017-100111</td>\n",
       "      <td>9/5/2016</td>\n",
       "      <td>12/16/2015</td>\n",
       "      <td>Standard Class</td>\n",
       "      <td>WB-21850</td>\n",
       "      <td>William Brown</td>\n",
       "      <td>Consumer</td>\n",
       "      <td>United States</td>\n",
       "      <td>New York City</td>\n",
       "      <td>California</td>\n",
       "      <td>West</td>\n",
       "      <td>OFF-PA-10001970</td>\n",
       "      <td>Office Supplies</td>\n",
       "      <td>Binders</td>\n",
       "      <td>Staple envelope</td>\n",
       "    </tr>\n",
       "    <tr>\n",
       "      <th>freq</th>\n",
       "      <td>14</td>\n",
       "      <td>38</td>\n",
       "      <td>35</td>\n",
       "      <td>5968</td>\n",
       "      <td>37</td>\n",
       "      <td>37</td>\n",
       "      <td>5191</td>\n",
       "      <td>9994</td>\n",
       "      <td>915</td>\n",
       "      <td>2001</td>\n",
       "      <td>3203</td>\n",
       "      <td>19</td>\n",
       "      <td>6026</td>\n",
       "      <td>1523</td>\n",
       "      <td>48</td>\n",
       "    </tr>\n",
       "  </tbody>\n",
       "</table>\n",
       "</div>"
      ],
      "text/plain": [
       "              Order ID Order Date   Ship Date       Ship Mode Customer ID  \\\n",
       "count             9994       9994        9994            9994        9994   \n",
       "unique            5009       1237        1334               4         793   \n",
       "top     CA-2017-100111   9/5/2016  12/16/2015  Standard Class    WB-21850   \n",
       "freq                14         38          35            5968          37   \n",
       "\n",
       "        Customer Name   Segment        Country           City       State  \\\n",
       "count            9994      9994           9994           9994        9994   \n",
       "unique            793         3              1            531          49   \n",
       "top     William Brown  Consumer  United States  New York City  California   \n",
       "freq               37      5191           9994            915        2001   \n",
       "\n",
       "       Region       Product ID         Category Sub-Category     Product Name  \n",
       "count    9994             9994             9994         9994             9994  \n",
       "unique      4             1862                3           17             1850  \n",
       "top      West  OFF-PA-10001970  Office Supplies      Binders  Staple envelope  \n",
       "freq     3203               19             6026         1523               48  "
      ]
     },
     "execution_count": 85,
     "metadata": {},
     "output_type": "execute_result"
    }
   ],
   "source": [
    "super_csv.describe(include = np.object)"
   ]
  },
  {
   "cell_type": "code",
   "execution_count": 92,
   "metadata": {},
   "outputs": [
    {
     "name": "stdout",
     "output_type": "stream",
     "text": [
      "   Row ID        Order ID Order Date Order Month   Ship Date       Ship Mode  \\\n",
      "0       1  CA-2016-152156 2016-11-08    November  11/11/2016    Second Class   \n",
      "1       2  CA-2016-152156 2016-11-08    November  11/11/2016    Second Class   \n",
      "2       3  CA-2016-138688 2016-06-12        June   6/16/2016    Second Class   \n",
      "3       4  US-2015-108966 2015-10-11     October  10/18/2015  Standard Class   \n",
      "4       5  US-2015-108966 2015-10-11     October  10/18/2015  Standard Class   \n",
      "\n",
      "  Customer ID    Customer Name    Segment        Country  ... Postal Code  \\\n",
      "0    CG-12520      Claire Gute   Consumer  United States  ...       42420   \n",
      "1    CG-12520      Claire Gute   Consumer  United States  ...       42420   \n",
      "2    DV-13045  Darrin Van Huff  Corporate  United States  ...       90036   \n",
      "3    SO-20335   Sean O'Donnell   Consumer  United States  ...       33311   \n",
      "4    SO-20335   Sean O'Donnell   Consumer  United States  ...       33311   \n",
      "\n",
      "  Region       Product ID         Category Sub-Category  \\\n",
      "0  South  FUR-BO-10001798        Furniture    Bookcases   \n",
      "1  South  FUR-CH-10000454        Furniture       Chairs   \n",
      "2   West  OFF-LA-10000240  Office Supplies       Labels   \n",
      "3  South  FUR-TA-10000577        Furniture       Tables   \n",
      "4  South  OFF-ST-10000760  Office Supplies      Storage   \n",
      "\n",
      "                                        Product Name     Sales Quantity  \\\n",
      "0                  Bush Somerset Collection Bookcase  261.9600        2   \n",
      "1  Hon Deluxe Fabric Upholstered Stacking Chairs,...  731.9400        3   \n",
      "2  Self-Adhesive Address Labels for Typewriters b...   14.6200        2   \n",
      "3      Bretford CR4500 Series Slim Rectangular Table  957.5775        5   \n",
      "4                     Eldon Fold 'N Roll Cart System   22.3680        2   \n",
      "\n",
      "   Discount    Profit  \n",
      "0      0.00   41.9136  \n",
      "1      0.00  219.5820  \n",
      "2      0.00    6.8714  \n",
      "3      0.45 -383.0310  \n",
      "4      0.20    2.5164  \n",
      "\n",
      "[5 rows x 22 columns]\n"
     ]
    }
   ],
   "source": [
    "# Ensure 'OrderDate' is in datetime format (in case it's not already)\n",
    "super_csv['Order Date'] = pd.to_datetime(super_csv['Order Date'], errors='coerce')  # Use 'coerce' to handle invalid dates\n",
    "\n",
    "# Extract the month names from the 'OrderDate' column\n",
    "super_csv_month = super_csv[\"Order Date\"].dt.month_name()\n",
    "\n",
    "# Insert the new column 'OrderMonth' at position 3\n",
    "super_csv.insert(loc=3, column='Order Month', value=super_csv_month)\n",
    "\n",
    "# Display the first few rows to confirm the change\n",
    "print(super_csv.head())\n"
   ]
  },
  {
   "cell_type": "code",
   "execution_count": 95,
   "metadata": {},
   "outputs": [],
   "source": [
    "super_csv_year = pd.DatetimeIndex(super_csv['Order Date']).year  #adding a new column called Year \n",
    "super_csv.insert(loc = 4, column = 'Order Year', value = super_csv_year)\n"
   ]
  },
  {
   "cell_type": "code",
   "execution_count": 98,
   "metadata": {},
   "outputs": [
    {
     "data": {
      "text/plain": [
       "0       2016\n",
       "1       2016\n",
       "2       2016\n",
       "3       2015\n",
       "4       2015\n",
       "        ... \n",
       "9989    2014\n",
       "9990    2017\n",
       "9991    2017\n",
       "9992    2017\n",
       "9993    2017\n",
       "Name: Order Year, Length: 9994, dtype: object"
      ]
     },
     "execution_count": 98,
     "metadata": {},
     "output_type": "execute_result"
    }
   ],
   "source": [
    "super_csv['Order Year'] = super_csv['Order Year'].astype('str')  #changing OrderYear column from integer to string\n",
    "super_csv['Order Year']"
   ]
  },
  {
   "cell_type": "code",
   "execution_count": 105,
   "metadata": {},
   "outputs": [
    {
     "name": "stdout",
     "output_type": "stream",
     "text": [
      "Index(['Row ID', 'Order ID', 'Order Date', 'Order Month', 'Order Year',\n",
      "       'Ship Date', 'Ship Mode', 'Customer ID', 'Customer Name', 'Segment',\n",
      "       'Country', 'City', 'State', 'Postal Code', 'Region', 'Product ID',\n",
      "       'Category', 'Sub-Category', 'Product Name', 'Sales', 'Quantity',\n",
      "       'Discount', 'Profit'],\n",
      "      dtype='object')\n",
      "0        261.96\n",
      "1        731.94\n",
      "2         14.62\n",
      "3       1741.05\n",
      "4         27.96\n",
      "         ...   \n",
      "9989      31.56\n",
      "9990      91.96\n",
      "9991     323.22\n",
      "9992      29.60\n",
      "9993     243.16\n",
      "Length: 9994, dtype: float64\n"
     ]
    }
   ],
   "source": [
    "# Step 3: Verify column names after stripping spaces\n",
    "print(super_csv.columns)\n",
    "\n",
    "# Step 4: Ensure the column you're using exists. If it's different, replace with the correct one.\n",
    "# For example, it might be 'Discount' or 'Discount Percentage', etc.\n",
    "# Replace 'Discount(%)' with the correct column name.\n",
    "original_sales = (1/(1-super_csv['Discount'])) * super_csv['Sales']\n",
    "\n",
    "# Step 5: Display the calculated 'original_sales'\n",
    "print(original_sales)"
   ]
  },
  {
   "cell_type": "code",
   "execution_count": 107,
   "metadata": {},
   "outputs": [],
   "source": [
    "super_csv['UnitPrice'] = original_sales/super_csv['Quantity']\n"
   ]
  },
  {
   "cell_type": "code",
   "execution_count": 110,
   "metadata": {},
   "outputs": [
    {
     "data": {
      "text/plain": [
       "0       -41.9136\n",
       "1      -219.5820\n",
       "2        -6.8714\n",
       "3       383.4810\n",
       "4        -2.3164\n",
       "          ...   \n",
       "9989     -3.9028\n",
       "9990    -15.6332\n",
       "9991    -19.1932\n",
       "9992    -13.3200\n",
       "9993    -72.9480\n",
       "Length: 9994, dtype: float64"
      ]
     },
     "execution_count": 110,
     "metadata": {},
     "output_type": "execute_result"
    }
   ],
   "source": [
    "super_csv_cost_price = super_csv['Discount'] - super_csv['Profit']\n",
    "super_csv_cost_price"
   ]
  },
  {
   "cell_type": "code",
   "execution_count": 113,
   "metadata": {},
   "outputs": [
    {
     "name": "stdout",
     "output_type": "stream",
     "text": [
      "   OriginalSales  CostPrice    Profit\n",
      "0         261.96     0.0000    0.0000\n",
      "1         731.94     0.0000    0.0000\n",
      "2          14.62     0.0000    0.0000\n",
      "3        1741.05   783.4725  783.4725\n",
      "4          27.96     5.5920    5.5920\n"
     ]
    }
   ],
   "source": [
    "# Step 1: Calculate Original Sales\n",
    "super_csv['OriginalSales'] = (1 / (1 - super_csv['Discount'])) * super_csv['Sales']\n",
    "\n",
    "# Step 2: Calculate CostPrice (Original Price before discount)\n",
    "super_csv['CostPrice'] = super_csv['OriginalSales'] - super_csv['Sales']\n",
    "\n",
    "# Step 3: Calculate Profit (Difference between Original Sales and Sales)\n",
    "super_csv['Profit'] = super_csv['OriginalSales'] - super_csv['Sales']\n",
    "\n",
    "# Step 4: Verify that the new columns have been added correctly\n",
    "print(super_csv[['OriginalSales', 'CostPrice', 'Profit']].head())"
   ]
  },
  {
   "cell_type": "code",
   "execution_count": 116,
   "metadata": {},
   "outputs": [],
   "source": [
    "super_csv['Discount'] = super_csv['OriginalSales'] - super_csv['Discount'] #Calculating Profit Percentage of each product and adding it to the dataset as a new column"
   ]
  },
  {
   "cell_type": "code",
   "execution_count": 128,
   "metadata": {},
   "outputs": [
    {
     "name": "stdout",
     "output_type": "stream",
     "text": [
      "Index(['Row ID', 'Order ID', 'Order Date', 'Order Month', 'OrderYear',\n",
      "       'Order Year', 'Ship Date', 'Ship Mode', 'Customer ID', 'Customer Name',\n",
      "       'Segment', 'Country', 'City', 'State', 'Postal Code', 'Region',\n",
      "       'Product ID', 'Category', 'Sub-Category', 'Product Name', 'Sales',\n",
      "       'Quantity', 'Discount', 'Profit', 'UnitPrice', 'CostPrice',\n",
      "       'OriginalSales', 'Profit%'],\n",
      "      dtype='object')\n",
      "     Profit  CostPrice  Profit%\n",
      "0    0.0000     0.0000      NaN\n",
      "1    0.0000     0.0000      NaN\n",
      "2    0.0000     0.0000      NaN\n",
      "3  783.4725   783.4725    100.0\n",
      "4    5.5920     5.5920    100.0\n"
     ]
    }
   ],
   "source": [
    "# Step 1: Check the available column names\n",
    "print(super_csv.columns)\n",
    "\n",
    "# Step 2: Correct column names based on inspection\n",
    "# Assuming the correct name for 'Cost Price' is 'CostPrice' (example)\n",
    "super_csv['Profit%'] = (super_csv['Profit'] / super_csv['CostPrice']) * 100  # Corrected Profit Percentage calculation\n",
    "\n",
    "# Step 3: Display the calculated 'Profit%' column to check\n",
    "print(super_csv[['Profit', 'CostPrice', 'Profit%']].head())\n"
   ]
  },
  {
   "cell_type": "code",
   "execution_count": 153,
   "metadata": {},
   "outputs": [
    {
     "name": "stdout",
     "output_type": "stream",
     "text": [
      "Index(['Row ID', 'Order ID', 'Order Date', 'Order Month', 'OrderYear',\n",
      "       'Order Year', 'Ship Date', 'Ship Mode', 'Customer ID', 'Customer Name',\n",
      "       'Segment', 'Country', 'City', 'State', 'Postal Code', 'Region',\n",
      "       'Product ID', 'Category', 'Sub-Category', 'Product Name', 'Sales',\n",
      "       'Quantity', 'Discount', 'Profit', 'UnitPrice', 'CostPrice',\n",
      "       'OriginalSales', 'Profit%'],\n",
      "      dtype='object')\n"
     ]
    }
   ],
   "source": [
    "print(super_csv.columns)\n"
   ]
  },
  {
   "cell_type": "code",
   "execution_count": 154,
   "metadata": {},
   "outputs": [
    {
     "data": {
      "text/html": [
       "<div>\n",
       "<style scoped>\n",
       "    .dataframe tbody tr th:only-of-type {\n",
       "        vertical-align: middle;\n",
       "    }\n",
       "\n",
       "    .dataframe tbody tr th {\n",
       "        vertical-align: top;\n",
       "    }\n",
       "\n",
       "    .dataframe thead th {\n",
       "        text-align: right;\n",
       "    }\n",
       "</style>\n",
       "<table border=\"1\" class=\"dataframe\">\n",
       "  <thead>\n",
       "    <tr style=\"text-align: right;\">\n",
       "      <th></th>\n",
       "      <th>Row ID</th>\n",
       "      <th>OrderYear</th>\n",
       "      <th>Postal Code</th>\n",
       "      <th>Sales</th>\n",
       "      <th>Quantity</th>\n",
       "      <th>Discount</th>\n",
       "      <th>Profit</th>\n",
       "      <th>UnitPrice</th>\n",
       "      <th>CostPrice</th>\n",
       "      <th>OriginalSales</th>\n",
       "      <th>Profit%</th>\n",
       "    </tr>\n",
       "  </thead>\n",
       "  <tbody>\n",
       "    <tr>\n",
       "      <th>count</th>\n",
       "      <td>9994.000000</td>\n",
       "      <td>9994.000000</td>\n",
       "      <td>9994.000000</td>\n",
       "      <td>9994.000000</td>\n",
       "      <td>9994.000000</td>\n",
       "      <td>9994.000000</td>\n",
       "      <td>9994.000000</td>\n",
       "      <td>9994.000000</td>\n",
       "      <td>9994.000000</td>\n",
       "      <td>9994.000000</td>\n",
       "      <td>5196.0</td>\n",
       "    </tr>\n",
       "    <tr>\n",
       "      <th>mean</th>\n",
       "      <td>4997.500000</td>\n",
       "      <td>2015.722233</td>\n",
       "      <td>55190.379428</td>\n",
       "      <td>229.858001</td>\n",
       "      <td>3.789574</td>\n",
       "      <td>286.409241</td>\n",
       "      <td>56.707442</td>\n",
       "      <td>75.571127</td>\n",
       "      <td>56.707442</td>\n",
       "      <td>286.565443</td>\n",
       "      <td>100.0</td>\n",
       "    </tr>\n",
       "    <tr>\n",
       "      <th>std</th>\n",
       "      <td>2885.163629</td>\n",
       "      <td>1.123555</td>\n",
       "      <td>32063.693350</td>\n",
       "      <td>623.245101</td>\n",
       "      <td>2.225110</td>\n",
       "      <td>864.081972</td>\n",
       "      <td>360.887222</td>\n",
       "      <td>188.961461</td>\n",
       "      <td>360.887222</td>\n",
       "      <td>864.095772</td>\n",
       "      <td>0.0</td>\n",
       "    </tr>\n",
       "    <tr>\n",
       "      <th>min</th>\n",
       "      <td>1.000000</td>\n",
       "      <td>2014.000000</td>\n",
       "      <td>1040.000000</td>\n",
       "      <td>0.444000</td>\n",
       "      <td>1.000000</td>\n",
       "      <td>0.990000</td>\n",
       "      <td>0.000000</td>\n",
       "      <td>0.990000</td>\n",
       "      <td>0.000000</td>\n",
       "      <td>0.990000</td>\n",
       "      <td>100.0</td>\n",
       "    </tr>\n",
       "    <tr>\n",
       "      <th>25%</th>\n",
       "      <td>2499.250000</td>\n",
       "      <td>2015.000000</td>\n",
       "      <td>23223.000000</td>\n",
       "      <td>17.280000</td>\n",
       "      <td>2.000000</td>\n",
       "      <td>21.160000</td>\n",
       "      <td>0.000000</td>\n",
       "      <td>6.480000</td>\n",
       "      <td>0.000000</td>\n",
       "      <td>21.360000</td>\n",
       "      <td>100.0</td>\n",
       "    </tr>\n",
       "    <tr>\n",
       "      <th>50%</th>\n",
       "      <td>4997.500000</td>\n",
       "      <td>2016.000000</td>\n",
       "      <td>56430.500000</td>\n",
       "      <td>54.490000</td>\n",
       "      <td>3.000000</td>\n",
       "      <td>64.940000</td>\n",
       "      <td>1.336000</td>\n",
       "      <td>19.980000</td>\n",
       "      <td>1.336000</td>\n",
       "      <td>64.960000</td>\n",
       "      <td>100.0</td>\n",
       "    </tr>\n",
       "    <tr>\n",
       "      <th>75%</th>\n",
       "      <td>7495.750000</td>\n",
       "      <td>2017.000000</td>\n",
       "      <td>90008.000000</td>\n",
       "      <td>209.940000</td>\n",
       "      <td>5.000000</td>\n",
       "      <td>251.775000</td>\n",
       "      <td>23.995500</td>\n",
       "      <td>76.980000</td>\n",
       "      <td>23.995500</td>\n",
       "      <td>251.910000</td>\n",
       "      <td>100.0</td>\n",
       "    </tr>\n",
       "    <tr>\n",
       "      <th>max</th>\n",
       "      <td>9994.000000</td>\n",
       "      <td>2017.000000</td>\n",
       "      <td>99301.000000</td>\n",
       "      <td>22638.480000</td>\n",
       "      <td>14.000000</td>\n",
       "      <td>45276.460000</td>\n",
       "      <td>22638.480000</td>\n",
       "      <td>7546.160000</td>\n",
       "      <td>22638.480000</td>\n",
       "      <td>45276.960000</td>\n",
       "      <td>100.0</td>\n",
       "    </tr>\n",
       "  </tbody>\n",
       "</table>\n",
       "</div>"
      ],
      "text/plain": [
       "            Row ID    OrderYear   Postal Code         Sales     Quantity  \\\n",
       "count  9994.000000  9994.000000   9994.000000   9994.000000  9994.000000   \n",
       "mean   4997.500000  2015.722233  55190.379428    229.858001     3.789574   \n",
       "std    2885.163629     1.123555  32063.693350    623.245101     2.225110   \n",
       "min       1.000000  2014.000000   1040.000000      0.444000     1.000000   \n",
       "25%    2499.250000  2015.000000  23223.000000     17.280000     2.000000   \n",
       "50%    4997.500000  2016.000000  56430.500000     54.490000     3.000000   \n",
       "75%    7495.750000  2017.000000  90008.000000    209.940000     5.000000   \n",
       "max    9994.000000  2017.000000  99301.000000  22638.480000    14.000000   \n",
       "\n",
       "           Discount        Profit    UnitPrice     CostPrice  OriginalSales  \\\n",
       "count   9994.000000   9994.000000  9994.000000   9994.000000    9994.000000   \n",
       "mean     286.409241     56.707442    75.571127     56.707442     286.565443   \n",
       "std      864.081972    360.887222   188.961461    360.887222     864.095772   \n",
       "min        0.990000      0.000000     0.990000      0.000000       0.990000   \n",
       "25%       21.160000      0.000000     6.480000      0.000000      21.360000   \n",
       "50%       64.940000      1.336000    19.980000      1.336000      64.960000   \n",
       "75%      251.775000     23.995500    76.980000     23.995500     251.910000   \n",
       "max    45276.460000  22638.480000  7546.160000  22638.480000   45276.960000   \n",
       "\n",
       "       Profit%  \n",
       "count   5196.0  \n",
       "mean     100.0  \n",
       "std        0.0  \n",
       "min      100.0  \n",
       "25%      100.0  \n",
       "50%      100.0  \n",
       "75%      100.0  \n",
       "max      100.0  "
      ]
     },
     "execution_count": 154,
     "metadata": {},
     "output_type": "execute_result"
    }
   ],
   "source": [
    "super_csv.describe()"
   ]
  },
  {
   "cell_type": "code",
   "execution_count": 155,
   "metadata": {},
   "outputs": [
    {
     "name": "stderr",
     "output_type": "stream",
     "text": [
      "<ipython-input-155-a9eaac3d48d9>:1: DeprecationWarning: `np.object` is a deprecated alias for the builtin `object`. To silence this warning, use `object` by itself. Doing this will not modify any behavior and is safe. \n",
      "Deprecated in NumPy 1.20; for more details and guidance: https://numpy.org/devdocs/release/1.20.0-notes.html#deprecations\n",
      "  super_csv.describe(include = np.object)\n"
     ]
    },
    {
     "data": {
      "text/html": [
       "<div>\n",
       "<style scoped>\n",
       "    .dataframe tbody tr th:only-of-type {\n",
       "        vertical-align: middle;\n",
       "    }\n",
       "\n",
       "    .dataframe tbody tr th {\n",
       "        vertical-align: top;\n",
       "    }\n",
       "\n",
       "    .dataframe thead th {\n",
       "        text-align: right;\n",
       "    }\n",
       "</style>\n",
       "<table border=\"1\" class=\"dataframe\">\n",
       "  <thead>\n",
       "    <tr style=\"text-align: right;\">\n",
       "      <th></th>\n",
       "      <th>Order ID</th>\n",
       "      <th>Order Month</th>\n",
       "      <th>Order Year</th>\n",
       "      <th>Ship Date</th>\n",
       "      <th>Ship Mode</th>\n",
       "      <th>Customer ID</th>\n",
       "      <th>Customer Name</th>\n",
       "      <th>Segment</th>\n",
       "      <th>Country</th>\n",
       "      <th>City</th>\n",
       "      <th>State</th>\n",
       "      <th>Region</th>\n",
       "      <th>Product ID</th>\n",
       "      <th>Category</th>\n",
       "      <th>Sub-Category</th>\n",
       "      <th>Product Name</th>\n",
       "    </tr>\n",
       "  </thead>\n",
       "  <tbody>\n",
       "    <tr>\n",
       "      <th>count</th>\n",
       "      <td>9994</td>\n",
       "      <td>9994</td>\n",
       "      <td>9994</td>\n",
       "      <td>9994</td>\n",
       "      <td>9994</td>\n",
       "      <td>9994</td>\n",
       "      <td>9994</td>\n",
       "      <td>9994</td>\n",
       "      <td>9994</td>\n",
       "      <td>9994</td>\n",
       "      <td>9994</td>\n",
       "      <td>9994</td>\n",
       "      <td>9994</td>\n",
       "      <td>9994</td>\n",
       "      <td>9994</td>\n",
       "      <td>9994</td>\n",
       "    </tr>\n",
       "    <tr>\n",
       "      <th>unique</th>\n",
       "      <td>5009</td>\n",
       "      <td>12</td>\n",
       "      <td>4</td>\n",
       "      <td>1334</td>\n",
       "      <td>4</td>\n",
       "      <td>793</td>\n",
       "      <td>793</td>\n",
       "      <td>3</td>\n",
       "      <td>1</td>\n",
       "      <td>531</td>\n",
       "      <td>49</td>\n",
       "      <td>4</td>\n",
       "      <td>1862</td>\n",
       "      <td>3</td>\n",
       "      <td>17</td>\n",
       "      <td>1850</td>\n",
       "    </tr>\n",
       "    <tr>\n",
       "      <th>top</th>\n",
       "      <td>CA-2017-100111</td>\n",
       "      <td>November</td>\n",
       "      <td>2017</td>\n",
       "      <td>12/16/2015</td>\n",
       "      <td>Standard Class</td>\n",
       "      <td>WB-21850</td>\n",
       "      <td>William Brown</td>\n",
       "      <td>Consumer</td>\n",
       "      <td>United States</td>\n",
       "      <td>New York City</td>\n",
       "      <td>California</td>\n",
       "      <td>West</td>\n",
       "      <td>OFF-PA-10001970</td>\n",
       "      <td>Office Supplies</td>\n",
       "      <td>Binders</td>\n",
       "      <td>Staple envelope</td>\n",
       "    </tr>\n",
       "    <tr>\n",
       "      <th>freq</th>\n",
       "      <td>14</td>\n",
       "      <td>1471</td>\n",
       "      <td>3312</td>\n",
       "      <td>35</td>\n",
       "      <td>5968</td>\n",
       "      <td>37</td>\n",
       "      <td>37</td>\n",
       "      <td>5191</td>\n",
       "      <td>9994</td>\n",
       "      <td>915</td>\n",
       "      <td>2001</td>\n",
       "      <td>3203</td>\n",
       "      <td>19</td>\n",
       "      <td>6026</td>\n",
       "      <td>1523</td>\n",
       "      <td>48</td>\n",
       "    </tr>\n",
       "  </tbody>\n",
       "</table>\n",
       "</div>"
      ],
      "text/plain": [
       "              Order ID Order Month Order Year   Ship Date       Ship Mode  \\\n",
       "count             9994        9994       9994        9994            9994   \n",
       "unique            5009          12          4        1334               4   \n",
       "top     CA-2017-100111    November       2017  12/16/2015  Standard Class   \n",
       "freq                14        1471       3312          35            5968   \n",
       "\n",
       "       Customer ID  Customer Name   Segment        Country           City  \\\n",
       "count         9994           9994      9994           9994           9994   \n",
       "unique         793            793         3              1            531   \n",
       "top       WB-21850  William Brown  Consumer  United States  New York City   \n",
       "freq            37             37      5191           9994            915   \n",
       "\n",
       "             State Region       Product ID         Category Sub-Category  \\\n",
       "count         9994   9994             9994             9994         9994   \n",
       "unique          49      4             1862                3           17   \n",
       "top     California   West  OFF-PA-10001970  Office Supplies      Binders   \n",
       "freq          2001   3203               19             6026         1523   \n",
       "\n",
       "           Product Name  \n",
       "count              9994  \n",
       "unique             1850  \n",
       "top     Staple envelope  \n",
       "freq                 48  "
      ]
     },
     "execution_count": 155,
     "metadata": {},
     "output_type": "execute_result"
    }
   ],
   "source": [
    "super_csv.describe(include = np.object)"
   ]
  },
  {
   "cell_type": "code",
   "execution_count": 156,
   "metadata": {},
   "outputs": [],
   "source": [
    "super_csv['OriginalSales'] = original_sales"
   ]
  },
  {
   "cell_type": "code",
   "execution_count": 157,
   "metadata": {},
   "outputs": [
    {
     "data": {
      "text/plain": [
       "0       130.98\n",
       "1       243.98\n",
       "2         7.31\n",
       "3       348.21\n",
       "4        13.98\n",
       "         ...  \n",
       "9989     10.52\n",
       "9990     45.98\n",
       "9991    161.61\n",
       "9992      7.40\n",
       "9993    121.58\n",
       "Name: UnitPrice, Length: 9994, dtype: float64"
      ]
     },
     "execution_count": 157,
     "metadata": {},
     "output_type": "execute_result"
    }
   ],
   "source": [
    "super_csv['UnitPrice'] = original_sales/super_csv['Quantity']\n",
    "super_csv['UnitPrice']"
   ]
  },
  {
   "cell_type": "code",
   "execution_count": 158,
   "metadata": {},
   "outputs": [
    {
     "data": {
      "text/plain": [
       "0       261.9600\n",
       "1       731.9400\n",
       "2        14.6200\n",
       "3       957.1275\n",
       "4        22.1680\n",
       "          ...   \n",
       "9989     25.0480\n",
       "9990     91.9600\n",
       "9991    258.3760\n",
       "9992     29.6000\n",
       "9993    243.1600\n",
       "Length: 9994, dtype: float64"
      ]
     },
     "execution_count": 158,
     "metadata": {},
     "output_type": "execute_result"
    }
   ],
   "source": [
    "super_csv_cost_price = super_csv['Discount'] - super_csv['Profit']\n",
    "super_csv_cost_price"
   ]
  },
  {
   "cell_type": "code",
   "execution_count": 163,
   "metadata": {},
   "outputs": [],
   "source": [
    "super_csv['CostPrice'] = super_csv_cost_price #Calculating Discounted Amount of each product and adding it to the dataset as a new column"
   ]
  },
  {
   "cell_type": "code",
   "execution_count": 166,
   "metadata": {},
   "outputs": [],
   "source": [
    "super_csv['DiscountedAmount'] = super_csv['OriginalSales'] - super_csv['Discount'] #Calculating Profit Percentage of each product and adding it to the dataset as a new column"
   ]
  },
  {
   "cell_type": "code",
   "execution_count": 168,
   "metadata": {},
   "outputs": [],
   "source": [
    "super_csv['Profit%']=(super_csv['Profit']/super_csv['CostPrice'])*100 # With the order date and delivery date columns n the dataset, delivery day lengths were calculated and added as a new column to the dataset"
   ]
  },
  {
   "cell_type": "code",
   "execution_count": 173,
   "metadata": {},
   "outputs": [
    {
     "name": "stdout",
     "output_type": "stream",
     "text": [
      "Index(['Row ID', 'Order ID', 'Order Date', 'Order Month', 'OrderYear',\n",
      "       'Order Year', 'Ship Date', 'Ship Mode', 'Customer ID', 'Customer Name',\n",
      "       'Segment', 'Country', 'City', 'State', 'Postal Code', 'Region',\n",
      "       'Product ID', 'Category', 'Sub-Category', 'Product Name', 'Sales',\n",
      "       'Quantity', 'Discount', 'Profit', 'UnitPrice', 'CostPrice',\n",
      "       'OriginalSales', 'Profit%', 'DiscountedAmount'],\n",
      "      dtype='object')\n"
     ]
    }
   ],
   "source": [
    "print(super_csv.columns)"
   ]
  },
  {
   "cell_type": "code",
   "execution_count": 176,
   "metadata": {},
   "outputs": [
    {
     "name": "stdout",
     "output_type": "stream",
     "text": [
      "  Order Date  Ship Date  Delivery Days\n",
      "0 2016-11-08 2016-11-11              3\n",
      "1 2016-11-08 2016-11-11              3\n",
      "2 2016-06-12 2016-06-16              4\n",
      "3 2015-10-11 2015-10-18              7\n",
      "4 2015-10-11 2015-10-18              7\n"
     ]
    }
   ],
   "source": [
    "\n",
    "# Convert both 'Order Date' and 'Ship Date' to datetime, if they are not already\n",
    "super_csv['Order Date'] = pd.to_datetime(super_csv['Order Date'], errors='coerce')  # Use 'coerce' to handle invalid dates\n",
    "super_csv['Ship Date'] = pd.to_datetime(super_csv['Ship Date'], errors='coerce')\n",
    "\n",
    "# Now calculate the delivery interval (in days)\n",
    "super_csv_interval = super_csv['Ship Date'] - super_csv['Order Date']\n",
    "\n",
    "# Convert timedelta to days\n",
    "super_csv_interval = super_csv_interval / np.timedelta64(1, 'D')\n",
    "\n",
    "# Insert the 'Delivery Days' column at the desired location\n",
    "super_csv.insert(loc=5, column='Delivery Days', value=super_csv_interval)\n",
    "\n",
    "# Optionally, convert 'Delivery Days' column to integer type\n",
    "super_csv['Delivery Days'] = super_csv['Delivery Days'].astype(int)\n",
    "\n",
    "# Optionally, you can check if the transformation worked\n",
    "print(super_csv[['Order Date', 'Ship Date', 'Delivery Days']].head())\n"
   ]
  },
  {
   "cell_type": "code",
   "execution_count": 180,
   "metadata": {},
   "outputs": [
    {
     "name": "stdout",
     "output_type": "stream",
     "text": [
      "         Order ID  Ship Date Order Date  Delivery Days Reliability    Profit%  \\\n",
      "0  CA-2016-152156 2016-11-11 2016-11-08              3      Timely   0.000000   \n",
      "1  CA-2016-152156 2016-11-11 2016-11-08              3      Timely   0.000000   \n",
      "2  CA-2016-138688 2016-06-16 2016-06-12              4      Timely   0.000000   \n",
      "3  US-2015-108966 2015-10-18 2015-10-11              7     Delayed  81.856649   \n",
      "4  US-2015-108966 2015-10-18 2015-10-11              7     Delayed  25.225550   \n",
      "\n",
      "   DiscountedAmount  \n",
      "0              0.00  \n",
      "1              0.00  \n",
      "2              0.00  \n",
      "3              0.45  \n",
      "4              0.20  \n"
     ]
    }
   ],
   "source": [
    "# Step 1: Check if 'Delivery Days' exists, and if it does, remove it\n",
    "if 'Delivery Days' in super_csv.columns:\n",
    "    super_csv.drop(columns=['Delivery Days'], inplace=True)\n",
    "\n",
    "# Step 2: Calculate the delivery days by subtracting Order Date from Ship Date\n",
    "super_csv_interval = super_csv[\"Ship Date\"] - super_csv[\"Order Date\"]\n",
    "super_csv_interval = super_csv_interval / np.timedelta64(1, 'D')\n",
    "\n",
    "# Step 3: Insert the new 'Delivery Days' column into the DataFrame\n",
    "super_csv.insert(loc=5, column='Delivery Days', value=super_csv_interval)\n",
    "\n",
    "# Step 4: Convert 'Delivery Days' column to integer type\n",
    "super_csv['Delivery Days'] = super_csv['Delivery Days'].astype('int')\n",
    "\n",
    "# Step 5: Create 'Reliability' column based on the Delivery Days (5 or more days = 'Delayed')\n",
    "super_csv['Reliability'] = np.where(super_csv['Delivery Days'] >= 5, 'Delayed', 'Timely')\n",
    "\n",
    "# Step 6: Calculate Profit Percentage\n",
    "super_csv['Profit%'] = (super_csv['Profit'] / super_csv['CostPrice']) * 100\n",
    "\n",
    "# Step 7: Calculate Discounted Amount (if needed)\n",
    "super_csv['DiscountedAmount'] = super_csv['OriginalSales'] - super_csv['Discount']\n",
    "\n",
    "# Step 8: Display the first few rows of the updated DataFrame to check if everything worked\n",
    "print(super_csv[['Order ID', 'Ship Date', 'Order Date', 'Delivery Days', 'Reliability', 'Profit%', 'DiscountedAmount']].head())\n",
    "\n"
   ]
  },
  {
   "cell_type": "code",
   "execution_count": 186,
   "metadata": {},
   "outputs": [
    {
     "data": {
      "image/png": "[encoded data removed]",
      "text/plain": [
       "<Figure size 576x288 with 1 Axes>"
      ]
     },
     "metadata": {
      "needs_background": "light"
     },
     "output_type": "display_data"
    },
    {
     "data": {
      "image/png": "[encoded data removed]",
      "text/plain": [
       "<Figure size 576x288 with 1 Axes>"
      ]
     },
     "metadata": {
      "needs_background": "light"
     },
     "output_type": "display_data"
    },
    {
     "data": {
      "image/png": "[encoded data removed]",
      "text/plain": [
       "<Figure size 1440x288 with 1 Axes>"
      ]
     },
     "metadata": {
      "needs_background": "light"
     },
     "output_type": "display_data"
    },
    {
     "data": {
      "image/png": "[encoded data removed]",
      "text/plain": [
       "<Figure size 1440x288 with 1 Axes>"
      ]
     },
     "metadata": {
      "needs_background": "light"
     },
     "output_type": "display_data"
    },
    {
     "data": {
      "image/png": "[encoded data removed]",
      "text/plain": [
       "<Figure size 576x288 with 1 Axes>"
      ]
     },
     "metadata": {
      "needs_background": "light"
     },
     "output_type": "display_data"
    },
    {
     "data": {
      "image/png": "[encoded data removed]",
      "text/plain": [
       "<Figure size 576x288 with 1 Axes>"
      ]
     },
     "metadata": {
      "needs_background": "light"
     },
     "output_type": "display_data"
    },
    {
     "data": {
      "image/png": "[encoded data removed]",
      "text/plain": [
       "<Figure size 1440x288 with 1 Axes>"
      ]
     },
     "metadata": {
      "needs_background": "light"
     },
     "output_type": "display_data"
    }
   ],
   "source": [
    "imp_categotical_features=super_csv[['Ship Mode','Segment', 'City', 'State','Region','Category', 'Sub-Category']]\n",
    "\n",
    "for col in imp_categotical_features:\n",
    "    width=8\n",
    "    n=len(super_csv[col].unique())\n",
    "    if n > 15:\n",
    "        width=20\n",
    "        plt.figure(figsize=(width,4))\n",
    "        temp=pd.DataFrame(super_csv[col].value_counts().sort_values(ascending=False)[:35],columns=[col])\n",
    "        sns.barplot(data=temp,x=temp.index,y=col,palette= 'Greens')\n",
    "        plt.ylabel(\"count\")\n",
    "        plt.xlabel(col)\n",
    "        plt.xticks(rotation=60)   \n",
    "    else:\n",
    "        plt.figure(figsize=(width,4))\n",
    "        sns.countplot(data=super_csv,x=col,palette='Blues')\n",
    "    plt.show()"
   ]
  },
  {
   "cell_type": "code",
   "execution_count": 192,
   "metadata": {},
   "outputs": [
    {
     "data": {
      "image/png": "[encoded data removed]",
      "text/plain": [
       "<Figure size 1008x576 with 1 Axes>"
      ]
     },
     "metadata": {},
     "output_type": "display_data"
    }
   ],
   "source": [
    "# Create the countplot\n",
    "sns.countplot(x='Sub-Category', data=super_csv)\n",
    "\n",
    "# Rotate the x-axis labels for better readability\n",
    "plt.xticks(rotation=60)\n",
    "\n",
    "# Add a title\n",
    "plt.title('Count of Sub-Category')\n",
    "\n",
    "# Show the plot\n",
    "plt.show()"
   ]
  },
  {
   "cell_type": "code",
   "execution_count": 195,
   "metadata": {},
   "outputs": [
    {
     "data": {
      "text/html": [
       "<div>\n",
       "<style scoped>\n",
       "    .dataframe tbody tr th:only-of-type {\n",
       "        vertical-align: middle;\n",
       "    }\n",
       "\n",
       "    .dataframe tbody tr th {\n",
       "        vertical-align: top;\n",
       "    }\n",
       "\n",
       "    .dataframe thead th {\n",
       "        text-align: right;\n",
       "    }\n",
       "</style>\n",
       "<table border=\"1\" class=\"dataframe\">\n",
       "  <thead>\n",
       "    <tr style=\"text-align: right;\">\n",
       "      <th></th>\n",
       "      <th>Segment</th>\n",
       "      <th>Discount</th>\n",
       "      <th>Profit</th>\n",
       "    </tr>\n",
       "  </thead>\n",
       "  <tbody>\n",
       "    <tr>\n",
       "      <th>0</th>\n",
       "      <td>Consumer</td>\n",
       "      <td>1455650.84</td>\n",
       "      <td>295070.4050</td>\n",
       "    </tr>\n",
       "    <tr>\n",
       "      <th>1</th>\n",
       "      <td>Corporate</td>\n",
       "      <td>863517.82</td>\n",
       "      <td>157849.3032</td>\n",
       "    </tr>\n",
       "    <tr>\n",
       "      <th>2</th>\n",
       "      <td>Home Office</td>\n",
       "      <td>543205.29</td>\n",
       "      <td>113814.4715</td>\n",
       "    </tr>\n",
       "  </tbody>\n",
       "</table>\n",
       "</div>"
      ],
      "text/plain": [
       "       Segment    Discount       Profit\n",
       "0     Consumer  1455650.84  295070.4050\n",
       "1    Corporate   863517.82  157849.3032\n",
       "2  Home Office   543205.29  113814.4715"
      ]
     },
     "execution_count": 195,
     "metadata": {},
     "output_type": "execute_result"
    }
   ],
   "source": [
    "sales_profit_segment1 = super_csv.groupby('Segment').sum()[['Discount','Profit']]\n",
    "sales_profit_segment1 = sales_profit_segment1.reset_index()\n",
    "sales_profit_segment1"
   ]
  },
  {
   "cell_type": "code",
   "execution_count": 198,
   "metadata": {},
   "outputs": [
    {
     "data": {
      "image/png": "[encoded data removed]",
      "text/plain": [
       "<Figure size 864x216 with 1 Axes>"
      ]
     },
     "metadata": {},
     "output_type": "display_data"
    },
    {
     "data": {
      "image/png": "[encoded data removed]",
      "text/plain": [
       "<Figure size 864x216 with 1 Axes>"
      ]
     },
     "metadata": {},
     "output_type": "display_data"
    }
   ],
   "source": [
    "plt.figure(figsize=(12,3))\n",
    "plt.barh(sales_profit_segment1['Segment'],sales_profit_segment1['Discount'], \n",
    "        color = 'g',\n",
    "        alpha = 1,\n",
    "       height=0.5)\n",
    "\n",
    "plt.title('Total Discounted Sales Per Segment',fontdict={'fontsize':15})\n",
    "plt.ylabel('Discount')\n",
    "plt.xlabel('Segment')\n",
    "plt.show()\n",
    "\n",
    "plt.figure(figsize=(12,3))\n",
    "plt.barh(sales_profit_segment1['Segment'],sales_profit_segment1['Profit'], \n",
    "        color = 'g',\n",
    "        alpha = 1,\n",
    "       height=0.5)\n",
    "\n",
    "plt.title('Total Profit Per Segment',fontdict={'fontsize':15})\n",
    "plt.ylabel('Profit')\n",
    "plt.xlabel('Segment')\n",
    "plt.show()"
   ]
  },
  {
   "cell_type": "code",
   "execution_count": 205,
   "metadata": {},
   "outputs": [
    {
     "data": {
      "text/html": [
       "<div>\n",
       "<style scoped>\n",
       "    .dataframe tbody tr th:only-of-type {\n",
       "        vertical-align: middle;\n",
       "    }\n",
       "\n",
       "    .dataframe tbody tr th {\n",
       "        vertical-align: top;\n",
       "    }\n",
       "\n",
       "    .dataframe thead th {\n",
       "        text-align: right;\n",
       "    }\n",
       "</style>\n",
       "<table border=\"1\" class=\"dataframe\">\n",
       "  <thead>\n",
       "    <tr style=\"text-align: right;\">\n",
       "      <th></th>\n",
       "      <th>Sub-Category</th>\n",
       "      <th>Discount</th>\n",
       "      <th>Profit</th>\n",
       "    </tr>\n",
       "  </thead>\n",
       "  <tbody>\n",
       "    <tr>\n",
       "      <th>0</th>\n",
       "      <td>Copiers</td>\n",
       "      <td>2571.127353</td>\n",
       "      <td>372.347500</td>\n",
       "    </tr>\n",
       "    <tr>\n",
       "      <th>1</th>\n",
       "      <td>Machines</td>\n",
       "      <td>2504.785391</td>\n",
       "      <td>859.538165</td>\n",
       "    </tr>\n",
       "    <tr>\n",
       "      <th>2</th>\n",
       "      <td>Tables</td>\n",
       "      <td>870.233260</td>\n",
       "      <td>221.699774</td>\n",
       "    </tr>\n",
       "    <tr>\n",
       "      <th>3</th>\n",
       "      <td>Bookcases</td>\n",
       "      <td>649.598289</td>\n",
       "      <td>145.949797</td>\n",
       "    </tr>\n",
       "    <tr>\n",
       "      <th>4</th>\n",
       "      <td>Chairs</td>\n",
       "      <td>638.112156</td>\n",
       "      <td>105.949914</td>\n",
       "    </tr>\n",
       "  </tbody>\n",
       "</table>\n",
       "</div>"
      ],
      "text/plain": [
       "  Sub-Category     Discount      Profit\n",
       "0      Copiers  2571.127353  372.347500\n",
       "1     Machines  2504.785391  859.538165\n",
       "2       Tables   870.233260  221.699774\n",
       "3    Bookcases   649.598289  145.949797\n",
       "4       Chairs   638.112156  105.949914"
      ]
     },
     "execution_count": 205,
     "metadata": {},
     "output_type": "execute_result"
    }
   ],
   "source": [
    "# Step 1: Calculate average discount and profit for each 'Sub-Category'\n",
    "df2_avg = super_csv.groupby(['Sub-Category'])[['Discount', 'Profit']].mean()\n",
    "\n",
    "# Step 2: Sort the values by 'Discount' in descending order\n",
    "sub_df2 = df2_avg.sort_values('Discount', ascending=False)\n",
    "\n",
    "# Step 3: Reset the index of the sorted DataFrame\n",
    "sub_df2 = sub_df2.reset_index()\n",
    "\n",
    "# Step 4: Display the top 5 rows\n",
    "sub_df2.head(5)"
   ]
  },
  {
   "cell_type": "code",
   "execution_count": 209,
   "metadata": {},
   "outputs": [
    {
     "data": {
      "text/html": [
       "<div>\n",
       "<style scoped>\n",
       "    .dataframe tbody tr th:only-of-type {\n",
       "        vertical-align: middle;\n",
       "    }\n",
       "\n",
       "    .dataframe tbody tr th {\n",
       "        vertical-align: top;\n",
       "    }\n",
       "\n",
       "    .dataframe thead th {\n",
       "        text-align: right;\n",
       "    }\n",
       "</style>\n",
       "<table border=\"1\" class=\"dataframe\">\n",
       "  <thead>\n",
       "    <tr style=\"text-align: right;\">\n",
       "      <th></th>\n",
       "      <th>Sub-Category</th>\n",
       "      <th>Discount</th>\n",
       "      <th>Profit</th>\n",
       "    </tr>\n",
       "  </thead>\n",
       "  <tbody>\n",
       "    <tr>\n",
       "      <th>0</th>\n",
       "      <td>Machines</td>\n",
       "      <td>2504.785391</td>\n",
       "      <td>859.538165</td>\n",
       "    </tr>\n",
       "    <tr>\n",
       "      <th>1</th>\n",
       "      <td>Copiers</td>\n",
       "      <td>2571.127353</td>\n",
       "      <td>372.347500</td>\n",
       "    </tr>\n",
       "    <tr>\n",
       "      <th>2</th>\n",
       "      <td>Tables</td>\n",
       "      <td>870.233260</td>\n",
       "      <td>221.699774</td>\n",
       "    </tr>\n",
       "    <tr>\n",
       "      <th>3</th>\n",
       "      <td>Bookcases</td>\n",
       "      <td>649.598289</td>\n",
       "      <td>145.949797</td>\n",
       "    </tr>\n",
       "    <tr>\n",
       "      <th>4</th>\n",
       "      <td>Chairs</td>\n",
       "      <td>638.112156</td>\n",
       "      <td>105.949914</td>\n",
       "    </tr>\n",
       "  </tbody>\n",
       "</table>\n",
       "</div>"
      ],
      "text/plain": [
       "  Sub-Category     Discount      Profit\n",
       "0     Machines  2504.785391  859.538165\n",
       "1      Copiers  2571.127353  372.347500\n",
       "2       Tables   870.233260  221.699774\n",
       "3    Bookcases   649.598289  145.949797\n",
       "4       Chairs   638.112156  105.949914"
      ]
     },
     "execution_count": 209,
     "metadata": {},
     "output_type": "execute_result"
    }
   ],
   "source": [
    " # Step 1: Sort the sub_df2 DataFrame by 'Profit' in descending order\n",
    "sub_profit_df2 = sub_df2.sort_values('Profit', ascending=False)\n",
    "\n",
    "# Step 2: Reset the index of the sorted DataFrame\n",
    "sub_profit_df2 = sub_profit_df2.reset_index(drop=True)\n",
    "\n",
    "# Step 3: Display the top 5 rows of the sorted DataFrame\n",
    "sub_profit_df2.head(5)\n"
   ]
  },
  {
   "cell_type": "code",
   "execution_count": 221,
   "metadata": {},
   "outputs": [
    {
     "name": "stdout",
     "output_type": "stream",
     "text": [
      "Index(['Sub-Category', 'Discount', 'Profit'], dtype='object')\n"
     ]
    },
    {
     "data": {
      "image/png": "[encoded data removed]",
      "text/plain": [
       "<Figure size 1152x576 with 2 Axes>"
      ]
     },
     "metadata": {},
     "output_type": "display_data"
    }
   ],
   "source": [
    "# Step 1: Check the column names in sub_df2 to ensure correct spelling and capitalization\n",
    "print(sub_df2.columns)\n",
    "\n",
    "# Step 2: If necessary, replace 'SubCategory' with the correct column name (e.g., 'Sub-Category')\n",
    "sns.set_theme(style=\"whitegrid\")\n",
    "\n",
    "# Increase the figure size by changing the figsize parameter\n",
    "figure, axis = plt.subplots(1, 2, figsize=(16, 8))  # Increase the size from (12, 4) to (16, 8)\n",
    "\n",
    "# Plot for the best-selling sub-categories\n",
    "subcat1 = sns.barplot(data=sub_df2, x='Sub-Category', y='Discount', ax=axis[0], palette=\"Blues\", \n",
    "                      order=sub_df2.sort_values('Discount')['Sub-Category'])\n",
    "\n",
    "subcat1.set(title=\"Best Selling Sub-Category\")\n",
    "subcat1.set_xticklabels(subcat1.get_xticklabels(), rotation=\"vertical\", size=12)  # Increased size for readability\n",
    "\n",
    "# Plot for the most profitable sub-categories\n",
    "subcat2 = sns.barplot(data=sub_profit_df2, x='Sub-Category', y='Profit', ax=axis[1], \n",
    "                      palette=\"Blues\", order=sub_profit_df2.sort_values('Profit')['Sub-Category'])\n",
    "\n",
    "subcat2.set(title=\"Most Profitable Sub-Category\")\n",
    "subcat2.set_xticklabels(subcat2.get_xticklabels(), rotation=\"vertical\", size=12)  # Increased size for readability\n",
    "\n",
    "# Step 3: Adjust the layout and show the plot\n",
    "figure.tight_layout()\n",
    "plt.show()\n",
    "\n"
   ]
  },
  {
   "cell_type": "markdown",
   "metadata": {},
   "source": [
    "BEST PERFORMING CATEGORY"
   ]
  },
  {
   "cell_type": "code",
   "execution_count": 225,
   "metadata": {},
   "outputs": [
    {
     "data": {
      "image/png": "[encoded data removed]",
      "text/plain": [
       "<Figure size 864x360 with 1 Axes>"
      ]
     },
     "metadata": {},
     "output_type": "display_data"
    }
   ],
   "source": [
    "sns.countplot(x='Category', data = super_csv)\n",
    "plt.title('Count of Category')\n",
    "plt.show() "
   ]
  },
  {
   "cell_type": "markdown",
   "metadata": {},
   "source": [
    "BEST PERFORMING PRODUCT"
   ]
  },
  {
   "cell_type": "code",
   "execution_count": 230,
   "metadata": {},
   "outputs": [
    {
     "data": {
      "text/html": [
       "<div>\n",
       "<style scoped>\n",
       "    .dataframe tbody tr th:only-of-type {\n",
       "        vertical-align: middle;\n",
       "    }\n",
       "\n",
       "    .dataframe tbody tr th {\n",
       "        vertical-align: top;\n",
       "    }\n",
       "\n",
       "    .dataframe thead th {\n",
       "        text-align: right;\n",
       "    }\n",
       "</style>\n",
       "<table border=\"1\" class=\"dataframe\">\n",
       "  <thead>\n",
       "    <tr style=\"text-align: right;\">\n",
       "      <th></th>\n",
       "      <th>Quantity</th>\n",
       "    </tr>\n",
       "    <tr>\n",
       "      <th>Product Name</th>\n",
       "      <th></th>\n",
       "    </tr>\n",
       "  </thead>\n",
       "  <tbody>\n",
       "    <tr>\n",
       "      <th>KI Adjustable-Height Table</th>\n",
       "      <td>74</td>\n",
       "    </tr>\n",
       "    <tr>\n",
       "      <th>Situations Contoured Folding Chairs, 4/Set</th>\n",
       "      <td>64</td>\n",
       "    </tr>\n",
       "    <tr>\n",
       "      <th>Staple-based wall hangings</th>\n",
       "      <td>62</td>\n",
       "    </tr>\n",
       "    <tr>\n",
       "      <th>Chromcraft Round Conference Tables</th>\n",
       "      <td>61</td>\n",
       "    </tr>\n",
       "    <tr>\n",
       "      <th>Eldon Wave Desk Accessories</th>\n",
       "      <td>61</td>\n",
       "    </tr>\n",
       "    <tr>\n",
       "      <th>...</th>\n",
       "      <td>...</td>\n",
       "    </tr>\n",
       "    <tr>\n",
       "      <th>Atlantic Metals Mobile 2-Shelf Bookcases, Custom Colors</th>\n",
       "      <td>3</td>\n",
       "    </tr>\n",
       "    <tr>\n",
       "      <th>Ultra Commercial Grade Dual Valve Door Closer</th>\n",
       "      <td>2</td>\n",
       "    </tr>\n",
       "    <tr>\n",
       "      <th>Barricks Non-Folding Utility Table with Steel Legs, Laminate Tops</th>\n",
       "      <td>2</td>\n",
       "    </tr>\n",
       "    <tr>\n",
       "      <th>Bush Saratoga Collection 5-Shelf Bookcase, Hanover Cherry, *Special Order</th>\n",
       "      <td>1</td>\n",
       "    </tr>\n",
       "    <tr>\n",
       "      <th>Global Enterprise Series Seating Low-Back Swivel/Tilt Chairs</th>\n",
       "      <td>1</td>\n",
       "    </tr>\n",
       "  </tbody>\n",
       "</table>\n",
       "<p>380 rows × 1 columns</p>\n",
       "</div>"
      ],
      "text/plain": [
       "                                                    Quantity\n",
       "Product Name                                                \n",
       "KI Adjustable-Height Table                                74\n",
       "Situations Contoured Folding Chairs, 4/Set                64\n",
       "Staple-based wall hangings                                62\n",
       "Chromcraft Round Conference Tables                        61\n",
       "Eldon Wave Desk Accessories                               61\n",
       "...                                                      ...\n",
       "Atlantic Metals Mobile 2-Shelf Bookcases, Custo...         3\n",
       "Ultra Commercial Grade Dual Valve Door Closer              2\n",
       "Barricks Non-Folding Utility Table with Steel L...         2\n",
       "Bush Saratoga Collection 5-Shelf Bookcase, Hano...         1\n",
       "Global Enterprise Series Seating Low-Back Swive...         1\n",
       "\n",
       "[380 rows x 1 columns]"
      ]
     },
     "execution_count": 230,
     "metadata": {},
     "output_type": "execute_result"
    }
   ],
   "source": [
    "fur_entr=super_csv[super_csv['Category']=='Furniture']\n",
    "fur_group=fur_entr.groupby(['Category', 'Product Name'])['Quantity'].sum().reset_index().sort_values('Quantity', \n",
    "                                                                                                    ascending = False)\n",
    "fur_group=fur_group[['Product Name','Quantity']].set_index('Product Name')\n",
    "fur_group"
   ]
  },
  {
   "cell_type": "code",
   "execution_count": 239,
   "metadata": {},
   "outputs": [
    {
     "data": {
      "image/png": "[encoded data removed]",
      "text/plain": [
       "<Figure size 720x720 with 1 Axes>"
      ]
     },
     "metadata": {},
     "output_type": "display_data"
    }
   ],
   "source": [
    "import matplotlib.pyplot as plt\n",
    "\n",
    "# Adjust the figure size for a larger pie chart\n",
    "plt.figure(figsize=(10, 10))  # Increased figure size to (10, 10)\n",
    "\n",
    "# Plot the pie chart\n",
    "fur_group.head(5)['Quantity'].plot.pie(autopct=\"%1.1f%%\", colors=['#1f77b4', '#ff7f0e', '#2ca02c', '#d62728', '#9467bd'])\n",
    "\n",
    "plt.title(\"Pie Chart of Quantity for the First 5 Groups\")  # Optional: Add a title\n",
    "plt.show()\n"
   ]
  },
  {
   "cell_type": "code",
   "execution_count": 244,
   "metadata": {},
   "outputs": [
    {
     "name": "stderr",
     "output_type": "stream",
     "text": [
      "<ipython-input-244-d376234854f9>:2: FutureWarning: Indexing with multiple keys (implicitly converted to a tuple of keys) will be deprecated, use a list instead.\n",
      "  month_sales_super_csv = pd.DataFrame(super_csv.groupby(['Order Month'])['Discount', 'Quantity', 'Profit']\n"
     ]
    },
    {
     "data": {
      "text/html": [
       "<div>\n",
       "<style scoped>\n",
       "    .dataframe tbody tr th:only-of-type {\n",
       "        vertical-align: middle;\n",
       "    }\n",
       "\n",
       "    .dataframe tbody tr th {\n",
       "        vertical-align: top;\n",
       "    }\n",
       "\n",
       "    .dataframe thead th {\n",
       "        text-align: right;\n",
       "    }\n",
       "</style>\n",
       "<table border=\"1\" class=\"dataframe\">\n",
       "  <thead>\n",
       "    <tr style=\"text-align: right;\">\n",
       "      <th></th>\n",
       "      <th>Discount</th>\n",
       "      <th>Quantity</th>\n",
       "      <th>Profit</th>\n",
       "    </tr>\n",
       "    <tr>\n",
       "      <th>Order Month</th>\n",
       "      <th></th>\n",
       "      <th></th>\n",
       "      <th></th>\n",
       "    </tr>\n",
       "  </thead>\n",
       "  <tbody>\n",
       "    <tr>\n",
       "      <th>March</th>\n",
       "      <td>375.595345</td>\n",
       "      <td>3.683908</td>\n",
       "      <td>81.202257</td>\n",
       "    </tr>\n",
       "    <tr>\n",
       "      <th>January</th>\n",
       "      <td>312.868215</td>\n",
       "      <td>3.871391</td>\n",
       "      <td>63.871586</td>\n",
       "    </tr>\n",
       "    <tr>\n",
       "      <th>November</th>\n",
       "      <td>303.253773</td>\n",
       "      <td>3.925901</td>\n",
       "      <td>63.805642</td>\n",
       "    </tr>\n",
       "    <tr>\n",
       "      <th>October</th>\n",
       "      <td>296.483968</td>\n",
       "      <td>3.789988</td>\n",
       "      <td>52.051960</td>\n",
       "    </tr>\n",
       "    <tr>\n",
       "      <th>December</th>\n",
       "      <td>286.001648</td>\n",
       "      <td>3.848722</td>\n",
       "      <td>55.119763</td>\n",
       "    </tr>\n",
       "    <tr>\n",
       "      <th>September</th>\n",
       "      <td>279.751106</td>\n",
       "      <td>3.660159</td>\n",
       "      <td>57.448947</td>\n",
       "    </tr>\n",
       "    <tr>\n",
       "      <th>August</th>\n",
       "      <td>276.039136</td>\n",
       "      <td>3.943343</td>\n",
       "      <td>50.918494</td>\n",
       "    </tr>\n",
       "    <tr>\n",
       "      <th>July</th>\n",
       "      <td>265.320225</td>\n",
       "      <td>3.809859</td>\n",
       "      <td>58.100511</td>\n",
       "    </tr>\n",
       "    <tr>\n",
       "      <th>April</th>\n",
       "      <td>263.932530</td>\n",
       "      <td>3.663174</td>\n",
       "      <td>57.864927</td>\n",
       "    </tr>\n",
       "    <tr>\n",
       "      <th>May</th>\n",
       "      <td>258.480517</td>\n",
       "      <td>3.797279</td>\n",
       "      <td>47.722392</td>\n",
       "    </tr>\n",
       "    <tr>\n",
       "      <th>June</th>\n",
       "      <td>256.606764</td>\n",
       "      <td>3.737796</td>\n",
       "      <td>43.772818</td>\n",
       "    </tr>\n",
       "    <tr>\n",
       "      <th>February</th>\n",
       "      <td>232.419600</td>\n",
       "      <td>3.556667</td>\n",
       "      <td>33.394995</td>\n",
       "    </tr>\n",
       "  </tbody>\n",
       "</table>\n",
       "</div>"
      ],
      "text/plain": [
       "               Discount  Quantity     Profit\n",
       "Order Month                                 \n",
       "March        375.595345  3.683908  81.202257\n",
       "January      312.868215  3.871391  63.871586\n",
       "November     303.253773  3.925901  63.805642\n",
       "October      296.483968  3.789988  52.051960\n",
       "December     286.001648  3.848722  55.119763\n",
       "September    279.751106  3.660159  57.448947\n",
       "August       276.039136  3.943343  50.918494\n",
       "July         265.320225  3.809859  58.100511\n",
       "April        263.932530  3.663174  57.864927\n",
       "May          258.480517  3.797279  47.722392\n",
       "June         256.606764  3.737796  43.772818\n",
       "February     232.419600  3.556667  33.394995"
      ]
     },
     "execution_count": 244,
     "metadata": {},
     "output_type": "execute_result"
    }
   ],
   "source": [
    "# Which month does the company records more sales?\n",
    "month_sales_super_csv = pd.DataFrame(super_csv.groupby(['Order Month'])['Discount', 'Quantity', 'Profit']\n",
    "                              .mean().sort_values('Discount',ascending = False))\n",
    "month_sales_super_csv = month_sales_super_csv.reset_index()\n",
    "month_sales_super_csv = month_sales_super_csv.set_index('Order Month')\n",
    "month_sales_super_csv"
   ]
  },
  {
   "cell_type": "code",
   "execution_count": 281,
   "metadata": {},
   "outputs": [
    {
     "data": {
      "image/png": "[encoded data removed]",
      "text/plain": [
       "<Figure size 2160x720 with 1 Axes>"
      ]
     },
     "metadata": {},
     "output_type": "display_data"
    }
   ],
   "source": [
    "# Making the bar chart bigger by adjusting the figsize\n",
    "month_sales_super_csv.plot(kind='bar', figsize=(30,10))  # Adjust width to 30 and height to 10\n",
    "\n",
    "# Rotating the x-axis labels for better readability\n",
    "plt.xticks(rotation=45)\n",
    "\n",
    "# Using logarithmic scale for the y-axis\n",
    "plt.yscale('log')\n",
    "\n",
    "# Show the plot\n",
    "plt.show()"
   ]
  },
  {
   "cell_type": "markdown",
   "metadata": {},
   "source": [
    "WHICH CUSTOMER SEGMENT IS THE MOST PROFITABLE?"
   ]
  },
  {
   "cell_type": "code",
   "execution_count": 282,
   "metadata": {},
   "outputs": [
    {
     "data": {
      "text/html": [
       "<div>\n",
       "<style scoped>\n",
       "    .dataframe tbody tr th:only-of-type {\n",
       "        vertical-align: middle;\n",
       "    }\n",
       "\n",
       "    .dataframe tbody tr th {\n",
       "        vertical-align: top;\n",
       "    }\n",
       "\n",
       "    .dataframe thead th {\n",
       "        text-align: right;\n",
       "    }\n",
       "</style>\n",
       "<table border=\"1\" class=\"dataframe\">\n",
       "  <thead>\n",
       "    <tr style=\"text-align: right;\">\n",
       "      <th></th>\n",
       "      <th>Profit</th>\n",
       "    </tr>\n",
       "    <tr>\n",
       "      <th>Segment</th>\n",
       "      <th></th>\n",
       "    </tr>\n",
       "  </thead>\n",
       "  <tbody>\n",
       "    <tr>\n",
       "      <th>Consumer</th>\n",
       "      <td>56.842690</td>\n",
       "    </tr>\n",
       "    <tr>\n",
       "      <th>Corporate</th>\n",
       "      <td>52.267981</td>\n",
       "    </tr>\n",
       "    <tr>\n",
       "      <th>Home Office</th>\n",
       "      <td>63.833130</td>\n",
       "    </tr>\n",
       "  </tbody>\n",
       "</table>\n",
       "</div>"
      ],
      "text/plain": [
       "                Profit\n",
       "Segment               \n",
       "Consumer     56.842690\n",
       "Corporate    52.267981\n",
       "Home Office  63.833130"
      ]
     },
     "execution_count": 282,
     "metadata": {},
     "output_type": "execute_result"
    }
   ],
   "source": [
    "df4 = pd.DataFrame(super_csv.groupby(['Segment'])[['Profit']].mean())\n",
    "df4"
   ]
  },
  {
   "cell_type": "code",
   "execution_count": 283,
   "metadata": {},
   "outputs": [
    {
     "data": {
      "image/png": "[encoded data removed]",
      "text/plain": [
       "<Figure size 864x360 with 1 Axes>"
      ]
     },
     "metadata": {},
     "output_type": "display_data"
    }
   ],
   "source": [
    "sns.set_theme(style=\"whitegrid\")\n",
    "sns.barplot(data = df4, x = df4.index, y = df4.Profit, palette = \"Blues\")\n",
    "plt.title(\"Customer Segment Profitability\")\n",
    "plt.show()"
   ]
  },
  {
   "cell_type": "markdown",
   "metadata": {},
   "source": [
    "WHICH IS THE PREFERRED SHIP MODE?"
   ]
  },
  {
   "cell_type": "code",
   "execution_count": 289,
   "metadata": {},
   "outputs": [
    {
     "data": {
      "image/png": "[encoded data removed]",
      "text/plain": [
       "<Figure size 1440x1080 with 1 Axes>"
      ]
     },
     "metadata": {},
     "output_type": "display_data"
    }
   ],
   "source": [
    "# Taking a subset of data\n",
    "super_csv_stackb = super_csv[['Ship Mode', 'Discount', 'Profit']]\n",
    "\n",
    "# Taking a groupby on 'Ship Mode' and calculating the sum of 'Discount' and 'Profit'\n",
    "super_csv_stackb = super_csv_stackb.groupby(['Ship Mode']).sum().reset_index()\n",
    "\n",
    "# Visualizing the Stacked BarChart with a larger figure\n",
    "plt.figure(figsize=[20,15])  # Increased the size of the plot\n",
    "plt.subplot(3,1,1)\n",
    "plt.bar(x=super_csv_stackb['Ship Mode'], height=super_csv_stackb['Discount'], color='skyblue')\n",
    "plt.bar(x=super_csv_stackb['Ship Mode'], height=super_csv_stackb['Profit'], bottom=super_csv_stackb['Discount'], color='green')\n",
    "plt.title(\"Sales & Profit Across Ship Modes\", size=20, pad=20)\n",
    "plt.legend(['Sales', 'Profit'])\n",
    "plt.xticks(rotation=45)\n",
    "plt.show()\n",
    "\n"
   ]
  },
  {
   "cell_type": "markdown",
   "metadata": {},
   "source": [
    "CUSTOMER REGIONAL ANALYSIS"
   ]
  },
  {
   "cell_type": "code",
   "execution_count": 290,
   "metadata": {},
   "outputs": [
    {
     "data": {
      "text/html": [
       "<div>\n",
       "<style scoped>\n",
       "    .dataframe tbody tr th:only-of-type {\n",
       "        vertical-align: middle;\n",
       "    }\n",
       "\n",
       "    .dataframe tbody tr th {\n",
       "        vertical-align: top;\n",
       "    }\n",
       "\n",
       "    .dataframe thead th {\n",
       "        text-align: right;\n",
       "    }\n",
       "</style>\n",
       "<table border=\"1\" class=\"dataframe\">\n",
       "  <thead>\n",
       "    <tr style=\"text-align: right;\">\n",
       "      <th></th>\n",
       "      <th>Region</th>\n",
       "      <th>Profit</th>\n",
       "    </tr>\n",
       "  </thead>\n",
       "  <tbody>\n",
       "    <tr>\n",
       "      <th>0</th>\n",
       "      <td>Central</td>\n",
       "      <td>163217.8892</td>\n",
       "    </tr>\n",
       "    <tr>\n",
       "      <th>1</th>\n",
       "      <td>East</td>\n",
       "      <td>164039.6900</td>\n",
       "    </tr>\n",
       "    <tr>\n",
       "      <th>2</th>\n",
       "      <td>South</td>\n",
       "      <td>105877.6150</td>\n",
       "    </tr>\n",
       "    <tr>\n",
       "      <th>3</th>\n",
       "      <td>West</td>\n",
       "      <td>133598.9855</td>\n",
       "    </tr>\n",
       "  </tbody>\n",
       "</table>\n",
       "</div>"
      ],
      "text/plain": [
       "    Region       Profit\n",
       "0  Central  163217.8892\n",
       "1     East  164039.6900\n",
       "2    South  105877.6150\n",
       "3     West  133598.9855"
      ]
     },
     "execution_count": 290,
     "metadata": {},
     "output_type": "execute_result"
    }
   ],
   "source": [
    "region_analysis = pd.DataFrame(super_csv.groupby(['Region'])['Profit'].sum().reset_index())\n",
    "region_analysis"
   ]
  },
  {
   "cell_type": "code",
   "execution_count": 294,
   "metadata": {},
   "outputs": [
    {
     "data": {
      "image/png": "[encoded data removed]",
      "text/plain": [
       "<Figure size 720x576 with 1 Axes>"
      ]
     },
     "metadata": {},
     "output_type": "display_data"
    }
   ],
   "source": [
    "# Setting the figure size\n",
    "plt.figure(figsize=(10, 8))  # Adjust the size as per your preference\n",
    "\n",
    "# Plotting the pie chart\n",
    "plt.pie(region_analysis.Profit, \n",
    "        labels=region_analysis.Region, \n",
    "        startangle=90, autopct=\"%1.0f%%\", \n",
    "        explode=[0, 0, 0, 0.1])  # Highlighting a specific region\n",
    "\n",
    "# Title for the pie chart\n",
    "plt.title(\"Most Profitable by Region\")\n",
    "\n",
    "# Displaying the plot\n",
    "plt.show()\n"
   ]
  },
  {
   "cell_type": "code",
   "execution_count": null,
   "metadata": {},
   "outputs": [],
   "source": []
  },
  {
   "cell_type": "code",
   "execution_count": null,
   "metadata": {},
   "outputs": [],
   "source": []
  },
  {
   "cell_type": "code",
   "execution_count": null,
   "metadata": {},
   "outputs": [],
   "source": []
  },
  {
   "cell_type": "code",
   "execution_count": null,
   "metadata": {},
   "outputs": [],
   "source": []
  },
  {
   "cell_type": "code",
   "execution_count": 114,
   "metadata": {},
   "outputs": [],
   "source": []
  },
  {
   "cell_type": "code",
   "execution_count": null,
   "metadata": {},
   "outputs": [],
   "source": []
  },
  {
   "cell_type": "code",
   "execution_count": null,
   "metadata": {},
   "outputs": [],
   "source": []
  },
  {
   "cell_type": "code",
   "execution_count": null,
   "metadata": {},
   "outputs": [],
   "source": []
  },
  {
   "cell_type": "code",
   "execution_count": null,
   "metadata": {},
   "outputs": [],
   "source": []
  },
  {
   "cell_type": "code",
   "execution_count": null,
   "metadata": {},
   "outputs": [],
   "source": []
  },
  {
   "cell_type": "code",
   "execution_count": null,
   "metadata": {},
   "outputs": [],
   "source": []
  },
  {
   "cell_type": "code",
   "execution_count": null,
   "metadata": {},
   "outputs": [],
   "source": []
  },
  {
   "cell_type": "code",
   "execution_count": null,
   "metadata": {},
   "outputs": [],
   "source": []
  }
 ],
 "metadata": {
  "kernelspec": {
   "display_name": "base",
   "language": "python",
   "name": "python3"
  },
  "language_info": {
   "codemirror_mode": {
    "name": "ipython",
    "version": 3
   },
   "file_extension": ".py",
   "mimetype": "text/x-python",
   "name": "python",
   "nbconvert_exporter": "python",
   "pygments_lexer": "ipython3",
   "version": "3.8.8"
  }
 },
 "nbformat": 4,
 "nbformat_minor": 2
}
